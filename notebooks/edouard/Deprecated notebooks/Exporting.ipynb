{
 "cells": [
  {
   "cell_type": "markdown",
   "metadata": {},
   "source": [
    "## Exporting and labeling the series\n",
    "\n",
    "After identification of healthy-unhealthy intervals, we are left with two lists of time series with variable length.\n",
    "\n",
    "To deal with this variable length, we present our different approaches.\n",
    "\n",
    "### The Exporter class\n",
    "\n",
    "Initialize it with the desired unit length of time series (by default 300), and choose a stride so that we don't save time series that are two similar (by default 10).\n",
    "\n",
    "- The `simple_export_ts` function only takes for each interval the first time series available ( `ts.ix[:self.unit_ts_length]` ) and doesn't take into account the stride and padding arguments.\n",
    "- The `export_ts` function however, creates the full dataset. And takes padding and strides into account.\n",
    "    - **Note** : we don't much need padding if we take care of it in the split_healthy_unhealthy function (0.1,0.95)\n",
    "    \n",
    "### Raw Time Series\n",
    "\n",
    "We might want to do the processing of features afterwards, so lets save it all as a numpy array with different row width for each series.\n",
    "\n",
    "In a separate file, we will put the labels."
   ]
  },
  {
   "cell_type": "code",
   "execution_count": 1,
   "metadata": {
    "collapsed": true
   },
   "outputs": [],
   "source": [
    "import os\n",
    "import sys\n",
    "module_path = os.path.abspath(os.path.join('..'))\n",
    "if module_path not in sys.path:\n",
    "    sys.path.append(module_path)"
   ]
  },
  {
   "cell_type": "code",
   "execution_count": null,
   "metadata": {
    "collapsed": true
   },
   "outputs": [],
   "source": [
    "import csv\n",
    "from observation import Observation\n",
    "\n",
    "prefixes = [site+tranche for site in [\"A\",\"B\",\"C\",\"D\",\"E\",\"F\",\"G\",\"H\"] for tranche in [\"1\",\"2\"]]\n",
    "suffix = \"DEB1-1\"\n",
    "fnames = [prefix+\"-\"+suffix+\".txt\" for prefix in prefixes]\n",
    "PATH = \"../../Data/GMPP_IRSDI/\"\n",
    "export_PATH = \"../exported-datasets/\"\n",
    "\n",
    "observations = [Observation(PATH,[fname],[tag],format=\"%Y-%m-%dT%H:%M:%S.000Z\",ncol=2) for fname,tag in zip(fnames,prefixes)]\n",
    "healthy=(0.05, 0.4)\n",
    "unhealthy=(0.6, 0.95)\n",
    "\n",
    "for observation in observations:\n",
    "    healthy_ts, unhealthy_ts = observation.split_healthy_unhealthy(healthy=healthy,unhealthy=unhealthy)\n",
    "    healthy_ts = [ts.values.ravel() for ts in healthy_ts]\n",
    "    unhealthy_ts = [ts.values.ravel() for ts in unhealthy_ts]\n",
    "    all_ts = all_ts + healthy_ts + unhealthy_ts\n",
    "    labels = np.concatenate([labels,np.zeros(len(healthy_ts)),np.ones(len(unhealthy_ts))])\n",
    "    assert len(all_ts)==len(labels), \"Number of ts different from number of labels\""
   ]
  },
  {
   "cell_type": "markdown",
   "metadata": {},
   "source": [
    "Save the time series and the labels"
   ]
  },
  {
   "cell_type": "code",
   "execution_count": null,
   "metadata": {
    "collapsed": true
   },
   "outputs": [],
   "source": [
    "with open(export_PATH+\"values_\"+suffix, \"w\") as test_f:\n",
    "    test_writer = csv.writer(test_f)\n",
    "    for ts in all_ts:\n",
    "        test_writer.writerow(ts)\n",
    "np.save(export_PATH+\"labels_\"+suffix+\".npy\",labels)\n",
    "\n",
    "# with open(export_PATH+\"values_\"+suffix, \"r\") as test_f:\n",
    "#     all_ts_bis = [np.array(series, dtype=np.float64) for series in list(csv.reader(test_f))]\n",
    "# labels_bis = np.load('test_labels.npy')"
   ]
  }
 ],
 "metadata": {
  "anaconda-cloud": {},
  "kernelspec": {
   "display_name": "Python (tsc)",
   "language": "python",
   "name": "tsc"
  },
  "language_info": {
   "codemirror_mode": {
    "name": "ipython",
    "version": 3
   },
   "file_extension": ".py",
   "mimetype": "text/x-python",
   "name": "python",
   "nbconvert_exporter": "python",
   "pygments_lexer": "ipython3",
   "version": "3.6.1"
  }
 },
 "nbformat": 4,
 "nbformat_minor": 0
}

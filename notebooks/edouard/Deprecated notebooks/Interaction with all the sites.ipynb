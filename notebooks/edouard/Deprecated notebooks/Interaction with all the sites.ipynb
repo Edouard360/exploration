{
 "cells": [
  {
   "cell_type": "markdown",
   "metadata": {},
   "source": [
    "# Interactive study (All)\n",
    "\n",
    "This is deprecated since that study relies on our previous segmentation of the data, which was according to **all the sensors missing values**..."
   ]
  },
  {
   "cell_type": "code",
   "execution_count": 1,
   "metadata": {
    "collapsed": true
   },
   "outputs": [],
   "source": [
    "import os\n",
    "import sys\n",
    "module_path = os.path.abspath(os.path.join('..'))\n",
    "if module_path not in sys.path:\n",
    "    sys.path.append(module_path)"
   ]
  },
  {
   "cell_type": "code",
   "execution_count": null,
   "metadata": {
    "collapsed": false
   },
   "outputs": [
    {
     "name": "stdout",
     "output_type": "stream",
     "text": [
      "Loading observation A1\n",
      "Loading observation A2\n",
      "Loading observation B1\n"
     ]
    }
   ],
   "source": [
    "%matplotlib inline\n",
    "import numpy as np\n",
    "import matplotlib.pyplot as plt\n",
    "import mpld3\n",
    "from observation import Observation\n",
    "from constants import *\n",
    "\n",
    "plt.style.use('ggplot')\n",
    "mpld3.enable_notebook()\n",
    "\n",
    "PATH = \"../../Data/GMPP_IRSDI/\"\n",
    "\n",
    "reactor_sites = [site+tranche for site in [\"A\",\"B\",\"C\",\"D\",\"E\",\"F\",\"G\",\"H\"] for tranche in [\"1\",\"2\"]] + [\"B3\",\"B4\",\"F3\",\"F4\"]\n",
    "\n",
    "suffixes = [\n",
    "\"DEB1-1\",\"DEB1-2\",\"DEB1-3\",\"DEB1-4\", # Débit de fuite au joint 1 (Gamme Large)\n",
    "\"DEB2-1\",\"DEB2-2\",\"DEB2-3\",\"DEB2-4\", # Débit de fuite au joint 1 (Gamme Étroite)\n",
    "\"DEB3-1\",\"DEB3-2\",\"DEB3-3\",\"DEB3-4\",\"DEB3-5\", # Débit d'injection au joint\n",
    "\"PUI-\",  # Puissance thermique moyenne\n",
    "\"PRE-\",  # Pression\n",
    "\"TEM1-\", # Température ligne d'injection aux joints (en * Celsius)     ### A rapprocher de DEB3\n",
    "\"TEM2-\", # Température fuites joint 1\n",
    "\"TEM3-1\",\"TEM3-2\",\"TEM3-3\",\"TEM3-4\",# Température eau joint 1 - 051PO ### A rapprocher de DEB1 DEB2\n",
    "\"VIT-1\",\"VIT-2\",\"VIT-3\",\"VIT-4\"# Vitesse de rotation\n",
    "] \n",
    "\n",
    "obs_dict = {}\n",
    "intervals_dict = {}\n",
    "\n",
    "for reactor_site in reactor_sites:\n",
    "    print(\"Loading observation \"+reactor_site)\n",
    "    obs_dict[reactor_site] = Observation(PATH,reactor_site,suffixes)\n",
    "    intervals_dict[reactor_site] = obs_dict[reactor_site].split_valid_intervals_df()\n",
    "\n",
    "intervals = []\n",
    "for key in intervals_dict.keys():\n",
    "    intervals+=intervals_dict[key]"
   ]
  },
  {
   "cell_type": "markdown",
   "metadata": {},
   "source": [
    "### Filtering and simple sorting ideas"
   ]
  },
  {
   "cell_type": "code",
   "execution_count": null,
   "metadata": {
    "collapsed": true
   },
   "outputs": [],
   "source": [
    "roll_var = lambda df: df[deb1].rolling(20).var().max(axis=0).max()\n",
    "power_above_80 = lambda df: ((df[pui]<80).sum()==0).any()\n",
    "jump = lambda df: df[deb1].diff().max().max()"
   ]
  },
  {
   "cell_type": "markdown",
   "metadata": {},
   "source": [
    "### Trend detection"
   ]
  },
  {
   "cell_type": "code",
   "execution_count": null,
   "metadata": {
    "collapsed": true
   },
   "outputs": [],
   "source": [
    "from sklearn.linear_model import LinearRegression\n",
    "from sklearn.multioutput import MultiOutputRegressor\n",
    "from sklearn.model_selection import train_test_split\n",
    "\n",
    "def max_overall_slope(df):\n",
    "    reg = LinearRegression()\n",
    "    df = df[deb1]\n",
    "    reg.fit(np.arange(len(df)).reshape(len(df),-1),df.values)\n",
    "    return reg.coef_.max()*len(df)\n",
    "\n",
    "def min_overall_slope(df):\n",
    "    reg = LinearRegression()\n",
    "    df = df[deb1]\n",
    "    reg.fit(np.arange(len(df)).reshape(len(df),-1),df.values)\n",
    "    return -reg.coef_.min()*len(df)\n",
    "\n",
    "w_length = 30\n",
    "def max_rolling_slope(df):\n",
    "    reg = LinearRegression()\n",
    "    df = df[deb1]\n",
    "    l_reg = []\n",
    "    for i in range(len(df)-w_length):\n",
    "        fit = reg.fit(np.arange(w_length).reshape(w_length,-1), df.iloc[i:i+w_length].values) \n",
    "        l_reg += [(fit.coef_.max(),fit.coef_.argmax(),i)]\n",
    "    return max(l_reg,key=lambda x: x[0])[0]\n",
    "\n",
    "def min_rolling_slope(df):\n",
    "    reg = LinearRegression()\n",
    "    df = df[deb1]\n",
    "    l_reg = []\n",
    "    for i in range(len(df)-w_length):\n",
    "        fit = reg.fit(np.arange(w_length).reshape(w_length,-1), df.iloc[i:i+w_length].values) \n",
    "        l_reg += [(fit.coef_.min(),fit.coef_.argmin(),i)]\n",
    "    return -min(l_reg,key=lambda x: x[0])[0]"
   ]
  },
  {
   "cell_type": "markdown",
   "metadata": {},
   "source": [
    "### Oscillation detection"
   ]
  },
  {
   "cell_type": "code",
   "execution_count": null,
   "metadata": {
    "collapsed": true
   },
   "outputs": [],
   "source": [
    "w_1 = 3; w_2 = 40\n",
    "osc_filter = lambda df: len(df[deb1])>w_1+w_2\n",
    "osc_var = lambda df: df[deb1].rolling(w_1).var().rolling(w_2).median().max(axis=0).max()"
   ]
  },
  {
   "cell_type": "markdown",
   "metadata": {},
   "source": [
    "### Fourier ideas"
   ]
  },
  {
   "cell_type": "code",
   "execution_count": null,
   "metadata": {
    "collapsed": true
   },
   "outputs": [],
   "source": [
    "from cmath import *\n",
    "\n",
    "strong_fourier_component = lambda df: np.max(np.abs(np.fft.fft(df[deb1],axis=0))[1:])\n",
    "mean_fourier_component = lambda df: np.mean(np.abs(np.fft.fft(df[deb1],axis=0))[1:])\n",
    "median_fourier_component = lambda df: np.median(np.abs(np.fft.fft(df[deb1],axis=0))[1:])\n",
    "\n",
    "w_fourier = 100\n",
    "fourier_filter = lambda df: len(df[deb1])>w_fourier\n",
    "def rolling_fourier(df):\n",
    "    df = df[deb1]\n",
    "    current_fft = np.fft.fft(df.iloc[:w_fourier].values,axis=0)\n",
    "    current_max = np.max(np.abs(current_fft)[2:int(w_fourier/2)])\n",
    "    arange_op = np.exp(2j*pi*np.arange(w_fourier).reshape(-1,1)/w_fourier)\n",
    "    for i in range(len(df)-w_fourier):\n",
    "        current_fft = (current_fft - df.iloc[i].values + df.iloc[w_fourier+i].values)*arange_op\n",
    "        current_max = max(current_max, np.max(np.abs(current_fft)[2:int(w_fourier/2)]))\n",
    "    return current_max"
   ]
  },
  {
   "cell_type": "markdown",
   "metadata": {},
   "source": [
    "### Interaction"
   ]
  },
  {
   "cell_type": "code",
   "execution_count": null,
   "metadata": {
    "collapsed": true
   },
   "outputs": [],
   "source": [
    "from interaction import Interaction\n",
    "\n",
    "interaction = Interaction(intervals)\n",
    "interaction.add_idx(\"Rolling variance\",roll_var)\n",
    "interaction.add_filter(\"Power above 80\",power_above_80)\n",
    "interaction.add_idx(\"Jump\",jump)\n",
    "\n",
    "interaction.add_idx(\"Increasing trend\",max_overall_slope)\n",
    "interaction.add_idx(\"Decreasing trend\",min_overall_slope)\n",
    "\n",
    "interaction.add_idx(\"Oscillation (var)\",osc_var,osc_filter)\n",
    "interaction.add_idx(\"Oscillation (fourier)\",rolling_fourier,fourier_filter)\n",
    "#interaction.add_idx(\"Mean Fourier Component\",mean_fourier_component)\n",
    "#interaction.add_idx(\"Strong Fourier Component\",strong_fourier_component)\n",
    "#interaction.add_idx(\"Median Fourier Component\",median_fourier_component)"
   ]
  },
  {
   "cell_type": "code",
   "execution_count": 1,
   "metadata": {
    "collapsed": false
   },
   "outputs": [
    {
     "ename": "NameError",
     "evalue": "name 'interaction' is not defined",
     "output_type": "error",
     "traceback": [
      "\u001b[0;31m---------------------------------------------------------------------------\u001b[0m",
      "\u001b[0;31mNameError\u001b[0m                                 Traceback (most recent call last)",
      "\u001b[0;32m<ipython-input-1-763faa95aee9>\u001b[0m in \u001b[0;36m<module>\u001b[0;34m()\u001b[0m\n\u001b[0;32m----> 1\u001b[0;31m \u001b[0minteraction\u001b[0m\u001b[0;34m.\u001b[0m\u001b[0minteract\u001b[0m\u001b[0;34m(\u001b[0m\u001b[0;34m)\u001b[0m\u001b[0;34m\u001b[0m\u001b[0m\n\u001b[0m",
      "\u001b[0;31mNameError\u001b[0m: name 'interaction' is not defined"
     ]
    }
   ],
   "source": [
    "interaction.interact()"
   ]
  },
  {
   "cell_type": "code",
   "execution_count": null,
   "metadata": {
    "collapsed": true
   },
   "outputs": [],
   "source": []
  }
 ],
 "metadata": {
  "anaconda-cloud": {},
  "kernelspec": {
   "display_name": "Python [default]",
   "language": "python",
   "name": "python3"
  },
  "language_info": {
   "codemirror_mode": {
    "name": "ipython",
    "version": 3
   },
   "file_extension": ".py",
   "mimetype": "text/x-python",
   "name": "python",
   "nbconvert_exporter": "python",
   "pygments_lexer": "ipython3",
   "version": "3.5.2"
  }
 },
 "nbformat": 4,
 "nbformat_minor": 2
}

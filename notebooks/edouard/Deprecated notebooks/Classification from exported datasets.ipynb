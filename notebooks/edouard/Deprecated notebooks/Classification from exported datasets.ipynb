{
 "cells": [
  {
   "cell_type": "markdown",
   "metadata": {},
   "source": [
    "## Classifying the intervals\n",
    "\n",
    "**NB:**\n",
    "\n",
    "This is deprecated.\n",
    "\n",
    "The study below corresponds to the output of the notebook \"Exporting\". However, in exporting, we consider steps as transitory changes in the data, and **that hypothesis was discarded** from our conversation with EDF. "
   ]
  },
  {
   "cell_type": "code",
   "execution_count": 1,
   "metadata": {
    "collapsed": true
   },
   "outputs": [],
   "source": [
    "import os\n",
    "import sys\n",
    "module_path = os.path.abspath(os.path.join('..'))\n",
    "if module_path not in sys.path:\n",
    "    sys.path.append(module_path)"
   ]
  },
  {
   "cell_type": "code",
   "execution_count": 2,
   "metadata": {
    "collapsed": true
   },
   "outputs": [],
   "source": [
    "import csv\n",
    "import numpy as np\n",
    "from exploitation.potential import autocovariance\n",
    "\n",
    "suffix = \"DEB1-2\"\n",
    "export_PATH = \"../exported-datasets/\"\n",
    "lag = 5\n",
    "\n",
    "with open(export_PATH+\"values_\"+suffix, \"r\") as test_f:\n",
    "    all_ts = [np.array(series, dtype=np.float64) for series in list(csv.reader(test_f))]\n",
    "labels = np.load(export_PATH+\"labels_\"+suffix+\".npy\")\n",
    "\n",
    "features_ts = [] \n",
    "\n",
    "for ts in all_ts:\n",
    "    features=[]\n",
    "    features+= [np.var(ts),np.min(ts),np.max(ts),np.max(ts)-np.min(ts),np.mean(ts)]\n",
    "    features+= [autocovariance(ts[:-lag],ts[lag:],True)] # True: autocorrelation\n",
    "    fft = np.fft.rfft(ts)[:10] # Take the first 10 components\n",
    "    assert len(fft)==10, \"The fft doesn't have enough components\"\n",
    "    features += list(np.real(fft)) # Real part\n",
    "    features += list(np.imag(fft)) # Imaginary part\n",
    "    features_ts.append(features)\n",
    "\n",
    "features_ts = np.array(features_ts)\n",
    "all_concat = np.concatenate([features_ts,labels.reshape(-1,1)],axis=1)\n",
    "all_concat = all_concat[~np.any(np.isnan(all_concat), axis=1)]"
   ]
  },
  {
   "cell_type": "code",
   "execution_count": 3,
   "metadata": {
    "collapsed": true
   },
   "outputs": [],
   "source": [
    "from sklearn.linear_model import LogisticRegression\n",
    "from sklearn.model_selection import train_test_split\n",
    "from sklearn.ensemble import RandomForestClassifier\n",
    "from sklearn.decomposition import PCA\n",
    "from sklearn.pipeline import Pipeline"
   ]
  },
  {
   "cell_type": "code",
   "execution_count": 4,
   "metadata": {
    "collapsed": false
   },
   "outputs": [
    {
     "data": {
      "text/plain": [
       "0.53140633685380767"
      ]
     },
     "execution_count": 4,
     "metadata": {},
     "output_type": "execute_result"
    }
   ],
   "source": [
    "clf = LogisticRegression()\n",
    "clf = RandomForestClassifier()\n",
    "\n",
    "reg = Pipeline([('pca', PCA(10)), ('clf', clf)]) # PCA to keep only 10 components\n",
    "\n",
    "X_train, X_test, y_train, y_test = train_test_split(all_concat[:,:-1], all_concat[:,[-1]], test_size=0.20, random_state=42)\n",
    "reg.fit(X_train,y_train.ravel())\n",
    "reg.score(X_test,y_test.ravel())"
   ]
  },
  {
   "cell_type": "markdown",
   "metadata": {},
   "source": [
    "### Doing it for each sensor"
   ]
  },
  {
   "cell_type": "code",
   "execution_count": 5,
   "metadata": {
    "collapsed": true
   },
   "outputs": [],
   "source": [
    "import pandas as pd\n",
    "#os.listdir(\"../exported-datasets\") \n",
    "sensors = [\"DEB1-1\",\"DEB1-2\",\"DEB1-3\",\"DEB1-4\",\"DEB2-1\",\"DEB2-2\",\"DEB2-3\",\"DEB2-4\",\"DEB3-1\",\"DEB3-2\",\"DEB3-3\",\"DEB3-4\",\"DEB3-5\",\"PUI-\",\"TEM1-\",\"TEM2-\",\"TEM3-1\",\"TEM3-2\",\"TEM3-3\",\"TEM3-4\"]"
   ]
  },
  {
   "cell_type": "code",
   "execution_count": 6,
   "metadata": {
    "collapsed": true
   },
   "outputs": [],
   "source": [
    "clf = LogisticRegression()\n",
    "clf = RandomForestClassifier()\n",
    "\n",
    "reg = Pipeline([('pca', PCA(10)), ('clf', clf)]) # PCA to keep only 10 components\n",
    "\n",
    "export_PATH = \"../exported-datasets/\"\n",
    "lag = 5\n",
    "scores = pd.DataFrame(0,index = sensors,columns=['score'])\n",
    "for suffix in sensors:\n",
    "    with open(export_PATH+\"values_\"+suffix, \"r\") as test_f:\n",
    "        all_ts = [np.array(series, dtype=np.float64) for series in list(csv.reader(test_f))]\n",
    "    labels = np.load(export_PATH+\"labels_\"+suffix+\".npy\")\n",
    "\n",
    "    features_ts = [] \n",
    "\n",
    "    for ts in all_ts:\n",
    "        features=[]\n",
    "        features+= [np.var(ts),np.min(ts),np.max(ts),np.max(ts)-np.min(ts),np.mean(ts)]\n",
    "        features+= [autocovariance(ts[:-lag],ts[lag:],True)] # True: autocorrelation\n",
    "        fft = np.fft.rfft(ts)[:10] # Take the first 10 components\n",
    "        assert len(fft)==10, \"The fft doesn't have enough components\"\n",
    "        features += list(np.real(fft)) # Real part\n",
    "        features += list(np.imag(fft)) # Imaginary part\n",
    "        features_ts.append(features)\n",
    "\n",
    "    features_ts = np.array(features_ts)\n",
    "    all_concat = np.concatenate([features_ts,labels.reshape(-1,1)],axis=1)\n",
    "    all_concat = all_concat[~np.any(np.isnan(all_concat), axis=1)]\n",
    "    \n",
    "    X_train, X_test, y_train, y_test = train_test_split(all_concat[:,:-1], all_concat[:,[-1]], test_size=0.20, random_state=42)\n",
    "    reg.fit(X_train,y_train.ravel())\n",
    "    scores.loc[suffix] = reg.score(X_test,y_test.ravel())"
   ]
  },
  {
   "cell_type": "code",
   "execution_count": 7,
   "metadata": {
    "collapsed": false
   },
   "outputs": [
    {
     "data": {
      "text/html": [
       "<div>\n",
       "<style>\n",
       "    .dataframe thead tr:only-child th {\n",
       "        text-align: right;\n",
       "    }\n",
       "\n",
       "    .dataframe thead th {\n",
       "        text-align: left;\n",
       "    }\n",
       "\n",
       "    .dataframe tbody tr th {\n",
       "        vertical-align: top;\n",
       "    }\n",
       "</style>\n",
       "<table border=\"1\" class=\"dataframe\">\n",
       "  <thead>\n",
       "    <tr style=\"text-align: right;\">\n",
       "      <th></th>\n",
       "      <th>score</th>\n",
       "    </tr>\n",
       "  </thead>\n",
       "  <tbody>\n",
       "    <tr>\n",
       "      <th>DEB1-1</th>\n",
       "      <td>0.490369</td>\n",
       "    </tr>\n",
       "    <tr>\n",
       "      <th>DEB1-2</th>\n",
       "      <td>0.540022</td>\n",
       "    </tr>\n",
       "    <tr>\n",
       "      <th>DEB1-3</th>\n",
       "      <td>0.544313</td>\n",
       "    </tr>\n",
       "    <tr>\n",
       "      <th>DEB1-4</th>\n",
       "      <td>0.566248</td>\n",
       "    </tr>\n",
       "    <tr>\n",
       "      <th>DEB2-1</th>\n",
       "      <td>0.574012</td>\n",
       "    </tr>\n",
       "    <tr>\n",
       "      <th>DEB2-2</th>\n",
       "      <td>0.600545</td>\n",
       "    </tr>\n",
       "    <tr>\n",
       "      <th>DEB2-3</th>\n",
       "      <td>0.580351</td>\n",
       "    </tr>\n",
       "    <tr>\n",
       "      <th>DEB2-4</th>\n",
       "      <td>0.580404</td>\n",
       "    </tr>\n",
       "    <tr>\n",
       "      <th>DEB3-1</th>\n",
       "      <td>0.570434</td>\n",
       "    </tr>\n",
       "    <tr>\n",
       "      <th>DEB3-2</th>\n",
       "      <td>0.579123</td>\n",
       "    </tr>\n",
       "    <tr>\n",
       "      <th>DEB3-3</th>\n",
       "      <td>0.581473</td>\n",
       "    </tr>\n",
       "    <tr>\n",
       "      <th>DEB3-4</th>\n",
       "      <td>0.592647</td>\n",
       "    </tr>\n",
       "    <tr>\n",
       "      <th>DEB3-5</th>\n",
       "      <td>0.598459</td>\n",
       "    </tr>\n",
       "    <tr>\n",
       "      <th>PUI-</th>\n",
       "      <td>0.571024</td>\n",
       "    </tr>\n",
       "    <tr>\n",
       "      <th>TEM1-</th>\n",
       "      <td>0.572385</td>\n",
       "    </tr>\n",
       "    <tr>\n",
       "      <th>TEM2-</th>\n",
       "      <td>0.570693</td>\n",
       "    </tr>\n",
       "    <tr>\n",
       "      <th>TEM3-1</th>\n",
       "      <td>0.566516</td>\n",
       "    </tr>\n",
       "    <tr>\n",
       "      <th>TEM3-2</th>\n",
       "      <td>0.579155</td>\n",
       "    </tr>\n",
       "    <tr>\n",
       "      <th>TEM3-3</th>\n",
       "      <td>0.593391</td>\n",
       "    </tr>\n",
       "    <tr>\n",
       "      <th>TEM3-4</th>\n",
       "      <td>0.610334</td>\n",
       "    </tr>\n",
       "  </tbody>\n",
       "</table>\n",
       "</div>"
      ],
      "text/plain": [
       "           score\n",
       "DEB1-1  0.490369\n",
       "DEB1-2  0.540022\n",
       "DEB1-3  0.544313\n",
       "DEB1-4  0.566248\n",
       "DEB2-1  0.574012\n",
       "DEB2-2  0.600545\n",
       "DEB2-3  0.580351\n",
       "DEB2-4  0.580404\n",
       "DEB3-1  0.570434\n",
       "DEB3-2  0.579123\n",
       "DEB3-3  0.581473\n",
       "DEB3-4  0.592647\n",
       "DEB3-5  0.598459\n",
       "PUI-    0.571024\n",
       "TEM1-   0.572385\n",
       "TEM2-   0.570693\n",
       "TEM3-1  0.566516\n",
       "TEM3-2  0.579155\n",
       "TEM3-3  0.593391\n",
       "TEM3-4  0.610334"
      ]
     },
     "execution_count": 7,
     "metadata": {},
     "output_type": "execute_result"
    }
   ],
   "source": [
    "scores"
   ]
  }
 ],
 "metadata": {
  "anaconda-cloud": {},
  "kernelspec": {
   "display_name": "Python [default]",
   "language": "python",
   "name": "python3"
  },
  "language_info": {
   "codemirror_mode": {
    "name": "ipython",
    "version": 3
   },
   "file_extension": ".py",
   "mimetype": "text/x-python",
   "name": "python",
   "nbconvert_exporter": "python",
   "pygments_lexer": "ipython3",
   "version": "3.5.2"
  }
 },
 "nbformat": 4,
 "nbformat_minor": 2
}

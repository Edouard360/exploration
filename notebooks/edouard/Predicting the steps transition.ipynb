{
 "cells": [
  {
   "cell_type": "markdown",
   "metadata": {},
   "source": [
    "# Variance and autocorrelation insights\n",
    "\n",
    "### Approach for identifying and labeling time series\n",
    "\n",
    "<hr>\n",
    "\n",
    "**NB :** In this notebook, we wanted to evaluate if variance and autocorrelation were good indicators of a imminent transition (like a **step** in the data). This study analyses where the **steps / brutal changes** were in the data and uses the signals before **to try to predict these steps**. We use variance and autocorrelation as features for our regression.\n",
    "\n",
    "<hr>\n",
    "\n",
    "**NB :** However from later discussion with the EDF team, we realized that these abrupt changes in the data didn't really correspond to predictable patterns because they were related to the random action of external agents, like the people responsible for the regulation of the pump. \n",
    "\n",
    "<hr>\n",
    "\n",
    "We **segment** a univariate time series data according to the timestamps at which something \"goes wrong\". From the **intervals** (different sizes) obtained we decide the following:\n",
    "\n",
    "- Since at the end of each interval, something goes wrong, we can **further segment** our time series data and **label as `bad` (1)** the final portion each interval.\n",
    "- Since there is **no problem** occuring **during** each interval, we can **further segment** the beginning of these intervals and **label them as `good` (2)**.\n",
    "\n",
    "We are therefore left with a set of healthy/unhealthy (shorter) time series."
   ]
  },
  {
   "cell_type": "code",
   "execution_count": 2,
   "metadata": {
    "collapsed": false
   },
   "outputs": [
    {
     "name": "stdout",
     "output_type": "stream",
     "text": [
      "Loading in memory 1 observations...\n",
      "Analysing intervals with low diversity\n",
      "Analysing intervals with bad level\n",
      "Analysing intervals with low sampling rate\n"
     ]
    }
   ],
   "source": [
    "from observation import Observation\n",
    "\n",
    "PATH = \"../../Data/GMPP_IRSDI/\"\n",
    "\n",
    "fnames = [\"A1-DEB1-1.txt\"] \n",
    "tags = [\"deb1_1\"] \n",
    "obs_deb = Observation(PATH, fnames, tags, format=\"%Y-%m-%dT%H:%M:%S.000Z\", ncol=2)\n",
    "\n",
    "healthy_ts, unhealthy_ts = obs_deb.split_healthy_unhealthy()"
   ]
  },
  {
   "cell_type": "markdown",
   "metadata": {},
   "source": [
    "### The resulting dataset\n",
    "\n",
    "healthy_ts contains a list of healthy time series, whereas unhealthy_ts contains the others.\n",
    "You can look in more details at how the cut is made in the `split_healthy_unhealthy` function; the default parameters are to take a `portion` from each interval, between 0.1 and 0.3 for the healthy (beginning of interval) and 0.7 and 0.95 for the unhealthy (end of interval).\n",
    "\n",
    "**Important note:** \n",
    "The time series obtained have different length !"
   ]
  },
  {
   "cell_type": "code",
   "execution_count": 3,
   "metadata": {
    "collapsed": false
   },
   "outputs": [
    {
     "name": "stdout",
     "output_type": "stream",
     "text": [
      "Healthy time series length :\n",
      "First : 69\n",
      "Second : 90\n",
      "Third : 546\n"
     ]
    }
   ],
   "source": [
    "print(\"Healthy time series length :\\nFirst : %i\\nSecond : %i\\nThird : %i\"%(len(healthy_ts[0]),len(healthy_ts[1]),len(healthy_ts[2])))"
   ]
  },
  {
   "cell_type": "markdown",
   "metadata": {},
   "source": [
    "### Scoring the time series (sliding variance)\n",
    "\n",
    "We can study the variance of each time series. Theoretically, unhealthy series should have higher variance than the healthy ones.\n",
    "\n",
    "**PB :** the length is different, so instead of brutally taking the variance, we could take the **mean of the variance for a sliding window**.\n",
    "\n",
    "We therefore have a score for each unhealthy/healthy intervals."
   ]
  },
  {
   "cell_type": "code",
   "execution_count": 4,
   "metadata": {
    "collapsed": false
   },
   "outputs": [],
   "source": [
    "from exploitation.potential import sliding_variance, sliding_autocovariance, summary_variance_autocovariance\n",
    "import numpy as np\n",
    "w_length = 300\n",
    "\n",
    "unhealthy_scores = np.array([np.nanmean(sliding_variance(ts.values.ravel(),w_length)) for ts in unhealthy_ts if len(ts)>w_length])\n",
    "healthy_scores = np.array([np.nanmean(sliding_variance(ts.values.ravel(),w_length)) for ts in healthy_ts if len(ts)>w_length])"
   ]
  },
  {
   "cell_type": "markdown",
   "metadata": {},
   "source": [
    "### Averaging the scores\n",
    "\n",
    "We can then average that score, or take the median.\n",
    "\n",
    "In our case, the median variance are very close, but the **mean variance of the unhealthy intervals is higher**, suggesting that **unhealthy intervals show high variance** more often, but that it is not enough to discriminate."
   ]
  },
  {
   "cell_type": "code",
   "execution_count": 5,
   "metadata": {
    "collapsed": false
   },
   "outputs": [
    {
     "name": "stdout",
     "output_type": "stream",
     "text": [
      "Mean :\n",
      "Unhealthy : 497.781\n",
      "Healthy : 274.403\n",
      "\n",
      "Median :\n",
      "Unhealthy : 194.343\n",
      "Healthy : 205.216\n"
     ]
    }
   ],
   "source": [
    "print(\"Mean :\\nUnhealthy : %2.3f\\nHealthy : %2.3f\\n\"%(np.mean(unhealthy_scores),np.mean(healthy_scores)))\n",
    "print(\"Median :\\nUnhealthy : %2.3f\\nHealthy : %2.3f\"%(np.median(unhealthy_scores),np.median(healthy_scores)))"
   ]
  },
  {
   "cell_type": "code",
   "execution_count": 6,
   "metadata": {
    "collapsed": false
   },
   "outputs": [],
   "source": [
    "unhealthy_scores = np.array([np.nanmean(sliding_autocovariance(ts.values.ravel(),w_length,lag = 5, autocorrelation=True)) for ts in unhealthy_ts if len(ts)>w_length])\n",
    "healthy_scores = np.array([np.nanmean(sliding_autocovariance(ts.values.ravel(),w_length,lag = 5,autocorrelation=True)) for ts in healthy_ts if len(ts)>w_length])"
   ]
  },
  {
   "cell_type": "markdown",
   "metadata": {},
   "source": [
    "### Sliding autocorrelation\n",
    "\n",
    "Doing the same with autocorrelation, we obtain results that are clearly not discriminative."
   ]
  },
  {
   "cell_type": "code",
   "execution_count": 7,
   "metadata": {
    "collapsed": false
   },
   "outputs": [
    {
     "name": "stdout",
     "output_type": "stream",
     "text": [
      "Mean :\n",
      "Unhealthy : 0.328\n",
      "Healthy : 0.331\n",
      "\n",
      "Median :\n",
      "Unhealthy : 0.305\n",
      "Healthy : 0.348\n"
     ]
    }
   ],
   "source": [
    "print(\"Mean :\\nUnhealthy : %2.3f\\nHealthy : %2.3f\\n\"%(np.mean(unhealthy_scores),np.mean(healthy_scores)))\n",
    "print(\"Median :\\nUnhealthy : %2.3f\\nHealthy : %2.3f\"%(np.median(unhealthy_scores),np.median(healthy_scores)))"
   ]
  },
  {
   "cell_type": "code",
   "execution_count": 8,
   "metadata": {
    "collapsed": false
   },
   "outputs": [
    {
     "name": "stdout",
     "output_type": "stream",
     "text": [
      "Loading in memory 8 observations...\n",
      "Analysing intervals with low diversity\n",
      "Analysing intervals with bad level\n",
      "Analysing intervals with low sampling rate\n"
     ]
    }
   ],
   "source": [
    "fnames = [\"A1-DEB1-1.txt\",\"A1-DEB1-2.txt\",\"A1-DEB1-3.txt\",\"A1-DEB1-4.txt\",\"A1-DEB2-1.txt\",\"A1-DEB2-2.txt\",\"A1-DEB2-3.txt\",\"A1-DEB2-4.txt\"]\n",
    "tags = [\"deb1_1\",\"deb1_2\",\"deb1_3\",\"deb1_4\",\"deb2_1\",\"deb2_2\",\"deb2_3\",\"deb2_4\"]\n",
    "obs_deb = Observation(PATH, fnames, tags, format=\"%Y-%m-%dT%H:%M:%S.000Z\", ncol=2)\n",
    "\n",
    "healthy_ts, unhealthy_ts = obs_deb.split_healthy_unhealthy()"
   ]
  },
  {
   "cell_type": "markdown",
   "metadata": {},
   "source": [
    "### Summing it up\n",
    "\n",
    "The code is the following: \n",
    "\n",
    "`Mn = Mean` | `Md = Median` | `Va = Variance` | `Au = Autocorrelation`\n",
    "\n",
    "Such that:\n",
    "\n",
    "- `MnVa Uh` corresponds to the mean of the sliding variance mean for the unhealthy series\n",
    "- `MdVa He` corresponds to the median of the sliding variance mean for the healthy series\n",
    "- `MdAu He` corresponds to the median of the sliding aucovariance mean for the healthy series"
   ]
  },
  {
   "cell_type": "code",
   "execution_count": 9,
   "metadata": {
    "collapsed": false
   },
   "outputs": [
    {
     "data": {
      "text/html": [
       "<div>\n",
       "<table border=\"1\" class=\"dataframe\">\n",
       "  <thead>\n",
       "    <tr style=\"text-align: right;\">\n",
       "      <th></th>\n",
       "      <th>MnVa Un</th>\n",
       "      <th>MnVa He</th>\n",
       "      <th>MdVa Un</th>\n",
       "      <th>MdVa He</th>\n",
       "      <th>MnAu Un</th>\n",
       "      <th>MnAu He</th>\n",
       "      <th>MdAu Un</th>\n",
       "      <th>MdAu He</th>\n",
       "    </tr>\n",
       "  </thead>\n",
       "  <tbody>\n",
       "    <tr>\n",
       "      <th>value_deb1_1</th>\n",
       "      <td>85.014446</td>\n",
       "      <td>77.690494</td>\n",
       "      <td>44.619974</td>\n",
       "      <td>44.017577</td>\n",
       "      <td>0.124188</td>\n",
       "      <td>0.106168</td>\n",
       "      <td>0.086526</td>\n",
       "      <td>0.061280</td>\n",
       "    </tr>\n",
       "    <tr>\n",
       "      <th>value_deb1_2</th>\n",
       "      <td>137.057562</td>\n",
       "      <td>142.008833</td>\n",
       "      <td>87.113336</td>\n",
       "      <td>89.998830</td>\n",
       "      <td>0.138661</td>\n",
       "      <td>0.143803</td>\n",
       "      <td>0.115637</td>\n",
       "      <td>0.087313</td>\n",
       "    </tr>\n",
       "    <tr>\n",
       "      <th>value_deb1_3</th>\n",
       "      <td>66.232754</td>\n",
       "      <td>57.500758</td>\n",
       "      <td>28.244668</td>\n",
       "      <td>27.289998</td>\n",
       "      <td>0.097651</td>\n",
       "      <td>0.101713</td>\n",
       "      <td>0.092118</td>\n",
       "      <td>0.060404</td>\n",
       "    </tr>\n",
       "    <tr>\n",
       "      <th>value_deb1_4</th>\n",
       "      <td>71.274655</td>\n",
       "      <td>56.547674</td>\n",
       "      <td>21.191374</td>\n",
       "      <td>21.150701</td>\n",
       "      <td>0.073139</td>\n",
       "      <td>0.092394</td>\n",
       "      <td>0.049192</td>\n",
       "      <td>0.067783</td>\n",
       "    </tr>\n",
       "    <tr>\n",
       "      <th>value_deb2_1</th>\n",
       "      <td>80.805961</td>\n",
       "      <td>317.763865</td>\n",
       "      <td>37.274160</td>\n",
       "      <td>39.210761</td>\n",
       "      <td>0.098128</td>\n",
       "      <td>0.092950</td>\n",
       "      <td>0.084083</td>\n",
       "      <td>0.061391</td>\n",
       "    </tr>\n",
       "    <tr>\n",
       "      <th>value_deb2_2</th>\n",
       "      <td>562.364696</td>\n",
       "      <td>880.116231</td>\n",
       "      <td>141.299953</td>\n",
       "      <td>151.927434</td>\n",
       "      <td>0.111810</td>\n",
       "      <td>0.138909</td>\n",
       "      <td>0.094858</td>\n",
       "      <td>0.100160</td>\n",
       "    </tr>\n",
       "    <tr>\n",
       "      <th>value_deb2_3</th>\n",
       "      <td>66.190932</td>\n",
       "      <td>296.645971</td>\n",
       "      <td>17.216122</td>\n",
       "      <td>15.935294</td>\n",
       "      <td>0.125423</td>\n",
       "      <td>0.103173</td>\n",
       "      <td>0.092706</td>\n",
       "      <td>0.086020</td>\n",
       "    </tr>\n",
       "    <tr>\n",
       "      <th>value_deb2_4</th>\n",
       "      <td>91.625287</td>\n",
       "      <td>69.841164</td>\n",
       "      <td>23.903837</td>\n",
       "      <td>20.405364</td>\n",
       "      <td>0.093869</td>\n",
       "      <td>0.092335</td>\n",
       "      <td>0.087815</td>\n",
       "      <td>0.056647</td>\n",
       "    </tr>\n",
       "  </tbody>\n",
       "</table>\n",
       "</div>"
      ],
      "text/plain": [
       "                 MnVa Un     MnVa He     MdVa Un     MdVa He   MnAu Un  \\\n",
       "value_deb1_1   85.014446   77.690494   44.619974   44.017577  0.124188   \n",
       "value_deb1_2  137.057562  142.008833   87.113336   89.998830  0.138661   \n",
       "value_deb1_3   66.232754   57.500758   28.244668   27.289998  0.097651   \n",
       "value_deb1_4   71.274655   56.547674   21.191374   21.150701  0.073139   \n",
       "value_deb2_1   80.805961  317.763865   37.274160   39.210761  0.098128   \n",
       "value_deb2_2  562.364696  880.116231  141.299953  151.927434  0.111810   \n",
       "value_deb2_3   66.190932  296.645971   17.216122   15.935294  0.125423   \n",
       "value_deb2_4   91.625287   69.841164   23.903837   20.405364  0.093869   \n",
       "\n",
       "               MnAu He   MdAu Un   MdAu He  \n",
       "value_deb1_1  0.106168  0.086526  0.061280  \n",
       "value_deb1_2  0.143803  0.115637  0.087313  \n",
       "value_deb1_3  0.101713  0.092118  0.060404  \n",
       "value_deb1_4  0.092394  0.049192  0.067783  \n",
       "value_deb2_1  0.092950  0.084083  0.061391  \n",
       "value_deb2_2  0.138909  0.094858  0.100160  \n",
       "value_deb2_3  0.103173  0.092706  0.086020  \n",
       "value_deb2_4  0.092335  0.087815  0.056647  "
      ]
     },
     "execution_count": 9,
     "metadata": {},
     "output_type": "execute_result"
    }
   ],
   "source": [
    "summary_variance_autocovariance(unhealthy_ts, healthy_ts,w_length=30)"
   ]
  },
  {
   "cell_type": "markdown",
   "metadata": {},
   "source": [
    "A simpler approach would simply take the variance of each interval instead of the sliding variance mean, but both approaches give similar results.\n",
    "\n",
    "**NB:** the difference between `value_deb_1` results as obtained in the array are coming from the fact that:\n",
    "\n",
    "- w_length is chosen at 30, instead of default 300.\n",
    "- The **multivariate** time series is more segemented, since they are more sensors (and therefore more \"wrong\" values 2^15 - 1). \n",
    "\n",
    "## Considering bad intervals independently\n",
    "\n",
    "Sensors are now considered individually "
   ]
  },
  {
   "cell_type": "code",
   "execution_count": 10,
   "metadata": {
    "collapsed": false
   },
   "outputs": [
    {
     "name": "stdout",
     "output_type": "stream",
     "text": [
      "Loading in memory 1 observations...\n",
      "Loading in memory 1 observations...\n",
      "Loading in memory 1 observations...\n",
      "Loading in memory 1 observations...\n",
      "Loading in memory 1 observations...\n",
      "Loading in memory 1 observations...\n",
      "Loading in memory 1 observations...\n",
      "Loading in memory 1 observations...\n",
      "Analysing intervals with low diversity\n",
      "Analysing intervals with bad level\n",
      "Analysing intervals with low sampling rate\n",
      "Analysing intervals with low diversity\n",
      "Analysing intervals with bad level\n",
      "Analysing intervals with low sampling rate\n",
      "Analysing intervals with low diversity\n",
      "Analysing intervals with bad level\n",
      "Analysing intervals with low sampling rate\n",
      "Analysing intervals with low diversity\n",
      "Analysing intervals with bad level\n",
      "Analysing intervals with low sampling rate\n",
      "Analysing intervals with low diversity\n",
      "Analysing intervals with bad level\n",
      "Analysing intervals with low sampling rate\n",
      "Analysing intervals with low diversity\n",
      "Analysing intervals with bad level\n",
      "Analysing intervals with low sampling rate\n",
      "Analysing intervals with low diversity\n",
      "Analysing intervals with bad level\n",
      "Analysing intervals with low sampling rate\n",
      "Analysing intervals with low diversity\n",
      "Analysing intervals with bad level\n",
      "Analysing intervals with low sampling rate\n"
     ]
    }
   ],
   "source": [
    "fnames = [\"A1-DEB1-1.txt\",\"A1-DEB1-2.txt\",\"A1-DEB1-3.txt\",\"A1-DEB1-4.txt\",\"A1-DEB2-1.txt\",\"A1-DEB2-2.txt\",\"A1-DEB2-3.txt\",\"A1-DEB2-4.txt\"]\n",
    "tags = [\"deb1_1\",\"deb1_2\",\"deb1_3\",\"deb1_4\",\"deb2_1\",\"deb2_2\",\"deb2_3\",\"deb2_4\"]\n",
    "obs_deb_independent = [Observation(PATH, [fname], [tag], format=\"%Y-%m-%dT%H:%M:%S.000Z\", ncol=2) for (fname,tag) in zip(fnames,tags)]\n",
    "\n",
    "healthy_unhealthy_ts = [obs_deb.split_healthy_unhealthy() for obs_deb in obs_deb_independent]"
   ]
  },
  {
   "cell_type": "code",
   "execution_count": 11,
   "metadata": {
    "collapsed": true
   },
   "outputs": [],
   "source": [
    "individual_summaries = [summary_variance_autocovariance(unhealthy_ts, healthy_ts,w_length=300) for (unhealthy_ts,healthy_ts) in healthy_unhealthy_ts]"
   ]
  },
  {
   "cell_type": "code",
   "execution_count": 12,
   "metadata": {
    "collapsed": false
   },
   "outputs": [
    {
     "data": {
      "text/html": [
       "<div>\n",
       "<table border=\"1\" class=\"dataframe\">\n",
       "  <thead>\n",
       "    <tr style=\"text-align: right;\">\n",
       "      <th></th>\n",
       "      <th>MnVa Un</th>\n",
       "      <th>MnVa He</th>\n",
       "      <th>MdVa Un</th>\n",
       "      <th>MdVa He</th>\n",
       "      <th>MnAu Un</th>\n",
       "      <th>MnAu He</th>\n",
       "      <th>MdAu Un</th>\n",
       "      <th>MdAu He</th>\n",
       "    </tr>\n",
       "  </thead>\n",
       "  <tbody>\n",
       "    <tr>\n",
       "      <th>value_deb1_1</th>\n",
       "      <td>497.781283</td>\n",
       "      <td>274.403183</td>\n",
       "      <td>194.343281</td>\n",
       "      <td>205.216367</td>\n",
       "      <td>0.327776</td>\n",
       "      <td>0.330894</td>\n",
       "      <td>0.304760</td>\n",
       "      <td>0.348437</td>\n",
       "    </tr>\n",
       "    <tr>\n",
       "      <th>value_deb1_2</th>\n",
       "      <td>483.004389</td>\n",
       "      <td>546.049994</td>\n",
       "      <td>358.413635</td>\n",
       "      <td>340.578840</td>\n",
       "      <td>0.329355</td>\n",
       "      <td>0.321955</td>\n",
       "      <td>0.301980</td>\n",
       "      <td>0.274779</td>\n",
       "    </tr>\n",
       "    <tr>\n",
       "      <th>value_deb1_3</th>\n",
       "      <td>342.511140</td>\n",
       "      <td>289.770148</td>\n",
       "      <td>131.432713</td>\n",
       "      <td>148.380462</td>\n",
       "      <td>0.341275</td>\n",
       "      <td>0.348843</td>\n",
       "      <td>0.311398</td>\n",
       "      <td>0.320853</td>\n",
       "    </tr>\n",
       "    <tr>\n",
       "      <th>value_deb1_4</th>\n",
       "      <td>369.983005</td>\n",
       "      <td>523.644873</td>\n",
       "      <td>155.017745</td>\n",
       "      <td>190.768511</td>\n",
       "      <td>0.356273</td>\n",
       "      <td>0.365544</td>\n",
       "      <td>0.351421</td>\n",
       "      <td>0.313815</td>\n",
       "    </tr>\n",
       "    <tr>\n",
       "      <th>value_deb2_1</th>\n",
       "      <td>214.958133</td>\n",
       "      <td>201.051602</td>\n",
       "      <td>169.741270</td>\n",
       "      <td>163.225567</td>\n",
       "      <td>0.361032</td>\n",
       "      <td>0.355475</td>\n",
       "      <td>0.358758</td>\n",
       "      <td>0.376932</td>\n",
       "    </tr>\n",
       "    <tr>\n",
       "      <th>value_deb2_2</th>\n",
       "      <td>1956.268914</td>\n",
       "      <td>78.313843</td>\n",
       "      <td>1180.523877</td>\n",
       "      <td>28.284324</td>\n",
       "      <td>0.684616</td>\n",
       "      <td>0.518288</td>\n",
       "      <td>0.792264</td>\n",
       "      <td>0.600535</td>\n",
       "    </tr>\n",
       "    <tr>\n",
       "      <th>value_deb2_3</th>\n",
       "      <td>442.110617</td>\n",
       "      <td>109.662015</td>\n",
       "      <td>82.739349</td>\n",
       "      <td>88.049069</td>\n",
       "      <td>0.501263</td>\n",
       "      <td>0.455404</td>\n",
       "      <td>0.507349</td>\n",
       "      <td>0.476506</td>\n",
       "    </tr>\n",
       "    <tr>\n",
       "      <th>value_deb2_4</th>\n",
       "      <td>398.168499</td>\n",
       "      <td>150.562461</td>\n",
       "      <td>110.383550</td>\n",
       "      <td>114.122371</td>\n",
       "      <td>0.421578</td>\n",
       "      <td>0.411641</td>\n",
       "      <td>0.395644</td>\n",
       "      <td>0.390659</td>\n",
       "    </tr>\n",
       "  </tbody>\n",
       "</table>\n",
       "</div>"
      ],
      "text/plain": [
       "                  MnVa Un     MnVa He      MdVa Un     MdVa He   MnAu Un  \\\n",
       "value_deb1_1   497.781283  274.403183   194.343281  205.216367  0.327776   \n",
       "value_deb1_2   483.004389  546.049994   358.413635  340.578840  0.329355   \n",
       "value_deb1_3   342.511140  289.770148   131.432713  148.380462  0.341275   \n",
       "value_deb1_4   369.983005  523.644873   155.017745  190.768511  0.356273   \n",
       "value_deb2_1   214.958133  201.051602   169.741270  163.225567  0.361032   \n",
       "value_deb2_2  1956.268914   78.313843  1180.523877   28.284324  0.684616   \n",
       "value_deb2_3   442.110617  109.662015    82.739349   88.049069  0.501263   \n",
       "value_deb2_4   398.168499  150.562461   110.383550  114.122371  0.421578   \n",
       "\n",
       "               MnAu He   MdAu Un   MdAu He  \n",
       "value_deb1_1  0.330894  0.304760  0.348437  \n",
       "value_deb1_2  0.321955  0.301980  0.274779  \n",
       "value_deb1_3  0.348843  0.311398  0.320853  \n",
       "value_deb1_4  0.365544  0.351421  0.313815  \n",
       "value_deb2_1  0.355475  0.358758  0.376932  \n",
       "value_deb2_2  0.518288  0.792264  0.600535  \n",
       "value_deb2_3  0.455404  0.507349  0.476506  \n",
       "value_deb2_4  0.411641  0.395644  0.390659  "
      ]
     },
     "execution_count": 12,
     "metadata": {},
     "output_type": "execute_result"
    }
   ],
   "source": [
    "import pandas as pd;\n",
    "pd.concat(individual_summaries)"
   ]
  },
  {
   "cell_type": "markdown",
   "metadata": {},
   "source": [
    "## Logistic classifier using variance - autocovariance based features"
   ]
  },
  {
   "cell_type": "code",
   "execution_count": 16,
   "metadata": {
    "collapsed": false
   },
   "outputs": [],
   "source": [
    "from sklearn.linear_model import LogisticRegression\n",
    "from sklearn.model_selection import train_test_split\n",
    "reg = LogisticRegression()\n",
    "\n",
    "summaryRegression = pd.DataFrame(0, index= tags,columns=[\"N_samples\",\"Score\"])\n",
    "w_length=300;lag=5\n",
    "\n",
    "for i in range(len(healthy_unhealthy_ts)):\n",
    "    # For each sensor individually, compute a train test dataset, with variance autocovariance features.\n",
    "    healthy_ts,unhealthy_ts = healthy_unhealthy_ts[i]\n",
    "    \n",
    "    unhealthy_scores_variance = np.array([np.nanmean(sliding_variance(ts.values.ravel(),w_length)) for ts in unhealthy_ts if len(ts)>w_length+lag])\n",
    "    healthy_scores_variance = np.array([np.nanmean(sliding_variance(ts.values.ravel(),w_length)) for ts in healthy_ts if len(ts)>w_length+lag])\n",
    "    unhealthy_scores_autocovariance = np.array([np.nanmean(sliding_autocovariance(ts.values.ravel(),w_length,lag = lag, autocorrelation=True)) for ts in unhealthy_ts if len(ts)>w_length+lag])\n",
    "    healthy_scores_autocovariance = np.array([np.nanmean(sliding_autocovariance(ts.values.ravel(),w_length,lag = lag,autocorrelation=True)) for ts in healthy_ts if len(ts)>w_length+lag])\n",
    "    n_samples_unhealthy = len(unhealthy_scores_variance)\n",
    "    n_samples_healthy = len(healthy_scores_variance)\n",
    "    unhealthy = np.concatenate((unhealthy_scores_variance[:,np.newaxis],unhealthy_scores_autocovariance[:,np.newaxis],np.ones((n_samples_unhealthy,1))),axis=1)\n",
    "    healthy = np.concatenate((healthy_scores_variance[:,np.newaxis],healthy_scores_autocovariance[:,np.newaxis],np.zeros((n_samples_healthy,1))),axis=1)\n",
    "    dataset = np.concatenate((healthy,unhealthy),axis=0)\n",
    "    n_samples = len(healthy_ts)\n",
    "    \n",
    "    X_train, X_test, y_train, y_test = train_test_split(dataset[:,:2], dataset[:,[2]], test_size=0.20, random_state=42)\n",
    "    reg.fit(X_train,y_train.ravel())\n",
    "    summaryRegression.ix[i,:]=[n_samples_unhealthy+n_samples_healthy,reg.score(X_test,y_test.ravel())]"
   ]
  },
  {
   "cell_type": "markdown",
   "metadata": {},
   "source": [
    "### Summary of the regression scores for sensors (considered independenty)"
   ]
  },
  {
   "cell_type": "code",
   "execution_count": 17,
   "metadata": {
    "collapsed": false
   },
   "outputs": [
    {
     "data": {
      "text/html": [
       "<div>\n",
       "<table border=\"1\" class=\"dataframe\">\n",
       "  <thead>\n",
       "    <tr style=\"text-align: right;\">\n",
       "      <th></th>\n",
       "      <th>N_samples</th>\n",
       "      <th>Score</th>\n",
       "    </tr>\n",
       "  </thead>\n",
       "  <tbody>\n",
       "    <tr>\n",
       "      <th>deb1_1</th>\n",
       "      <td>231</td>\n",
       "      <td>0.382979</td>\n",
       "    </tr>\n",
       "    <tr>\n",
       "      <th>deb1_2</th>\n",
       "      <td>236</td>\n",
       "      <td>0.583333</td>\n",
       "    </tr>\n",
       "    <tr>\n",
       "      <th>deb1_3</th>\n",
       "      <td>240</td>\n",
       "      <td>0.541667</td>\n",
       "    </tr>\n",
       "    <tr>\n",
       "      <th>deb1_4</th>\n",
       "      <td>234</td>\n",
       "      <td>0.617021</td>\n",
       "    </tr>\n",
       "    <tr>\n",
       "      <th>deb2_1</th>\n",
       "      <td>168</td>\n",
       "      <td>0.411765</td>\n",
       "    </tr>\n",
       "    <tr>\n",
       "      <th>deb2_2</th>\n",
       "      <td>8</td>\n",
       "      <td>1.000000</td>\n",
       "    </tr>\n",
       "    <tr>\n",
       "      <th>deb2_3</th>\n",
       "      <td>152</td>\n",
       "      <td>0.483871</td>\n",
       "    </tr>\n",
       "    <tr>\n",
       "      <th>deb2_4</th>\n",
       "      <td>138</td>\n",
       "      <td>0.535714</td>\n",
       "    </tr>\n",
       "  </tbody>\n",
       "</table>\n",
       "</div>"
      ],
      "text/plain": [
       "        N_samples     Score\n",
       "deb1_1        231  0.382979\n",
       "deb1_2        236  0.583333\n",
       "deb1_3        240  0.541667\n",
       "deb1_4        234  0.617021\n",
       "deb2_1        168  0.411765\n",
       "deb2_2          8  1.000000\n",
       "deb2_3        152  0.483871\n",
       "deb2_4        138  0.535714"
      ]
     },
     "execution_count": 17,
     "metadata": {},
     "output_type": "execute_result"
    }
   ],
   "source": [
    "summaryRegression"
   ]
  },
  {
   "cell_type": "markdown",
   "metadata": {},
   "source": [
    "For the **deb2_2** sensor we see that we only have very few samples. \n",
    "This is because only 8 time intervals are longer than 300 (which is our sliding window length).\n",
    "So **only for deb2_2**, let's take a window of length 60. "
   ]
  },
  {
   "cell_type": "code",
   "execution_count": 24,
   "metadata": {
    "collapsed": false
   },
   "outputs": [
    {
     "data": {
      "text/html": [
       "<div>\n",
       "<table border=\"1\" class=\"dataframe\">\n",
       "  <thead>\n",
       "    <tr style=\"text-align: right;\">\n",
       "      <th></th>\n",
       "      <th>N_samples</th>\n",
       "      <th>Score</th>\n",
       "    </tr>\n",
       "  </thead>\n",
       "  <tbody>\n",
       "    <tr>\n",
       "      <th>deb1_1</th>\n",
       "      <td>231</td>\n",
       "      <td>0.382979</td>\n",
       "    </tr>\n",
       "    <tr>\n",
       "      <th>deb1_2</th>\n",
       "      <td>236</td>\n",
       "      <td>0.583333</td>\n",
       "    </tr>\n",
       "    <tr>\n",
       "      <th>deb1_3</th>\n",
       "      <td>240</td>\n",
       "      <td>0.541667</td>\n",
       "    </tr>\n",
       "    <tr>\n",
       "      <th>deb1_4</th>\n",
       "      <td>234</td>\n",
       "      <td>0.617021</td>\n",
       "    </tr>\n",
       "    <tr>\n",
       "      <th>deb2_1</th>\n",
       "      <td>168</td>\n",
       "      <td>0.411765</td>\n",
       "    </tr>\n",
       "    <tr>\n",
       "      <th>deb2_2</th>\n",
       "      <td>214</td>\n",
       "      <td>0.651163</td>\n",
       "    </tr>\n",
       "    <tr>\n",
       "      <th>deb2_3</th>\n",
       "      <td>152</td>\n",
       "      <td>0.483871</td>\n",
       "    </tr>\n",
       "    <tr>\n",
       "      <th>deb2_4</th>\n",
       "      <td>138</td>\n",
       "      <td>0.535714</td>\n",
       "    </tr>\n",
       "  </tbody>\n",
       "</table>\n",
       "</div>"
      ],
      "text/plain": [
       "        N_samples     Score\n",
       "deb1_1        231  0.382979\n",
       "deb1_2        236  0.583333\n",
       "deb1_3        240  0.541667\n",
       "deb1_4        234  0.617021\n",
       "deb2_1        168  0.411765\n",
       "deb2_2        214  0.651163\n",
       "deb2_3        152  0.483871\n",
       "deb2_4        138  0.535714"
      ]
     },
     "execution_count": 24,
     "metadata": {},
     "output_type": "execute_result"
    }
   ],
   "source": [
    "summaryRegression"
   ]
  },
  {
   "cell_type": "markdown",
   "metadata": {},
   "source": [
    "The classification score is relatively bad if we only take **variance/autocovariance** features."
   ]
  }
 ],
 "metadata": {
  "anaconda-cloud": {},
  "kernelspec": {
   "display_name": "Python (tsc)",
   "language": "python",
   "name": "tsc"
  },
  "language_info": {
   "codemirror_mode": {
    "name": "ipython",
    "version": 3
   },
   "file_extension": ".py",
   "mimetype": "text/x-python",
   "name": "python",
   "nbconvert_exporter": "python",
   "pygments_lexer": "ipython3",
   "version": "3.6.1"
  }
 },
 "nbformat": 4,
 "nbformat_minor": 0
}

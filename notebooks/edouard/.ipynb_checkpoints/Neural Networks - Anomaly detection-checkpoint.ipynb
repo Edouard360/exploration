{
 "cells": [
  {
   "cell_type": "markdown",
   "metadata": {},
   "source": [
    "# Neural networks for anomaly detection"
   ]
  },
  {
   "cell_type": "markdown",
   "metadata": {},
   "source": [
    "##### Debug mode"
   ]
  },
  {
   "cell_type": "code",
   "execution_count": 1,
   "metadata": {
    "collapsed": true
   },
   "outputs": [],
   "source": [
    "%load_ext autoreload\n",
    "%autoreload 2"
   ]
  },
  {
   "cell_type": "markdown",
   "metadata": {},
   "source": [
    "##### For relative imports"
   ]
  },
  {
   "cell_type": "code",
   "execution_count": 2,
   "metadata": {
    "collapsed": true
   },
   "outputs": [],
   "source": [
    "import os\n",
    "import sys\n",
    "module_path = os.path.abspath(os.path.join('..'))\n",
    "if module_path not in sys.path:\n",
    "    sys.path.append(module_path)"
   ]
  },
  {
   "cell_type": "markdown",
   "metadata": {},
   "source": [
    "##### Notebook"
   ]
  },
  {
   "cell_type": "code",
   "execution_count": 3,
   "metadata": {
    "collapsed": false
   },
   "outputs": [
    {
     "name": "stdout",
     "output_type": "stream",
     "text": [
      "Loading observation A1\n",
      "Loading observation A2\n",
      "Loading observation B1\n",
      "Loading observation B2\n",
      "Loading observation C1\n",
      "Loading observation C2\n",
      "Loading observation D1\n",
      "Loading observation D2\n",
      "Loading observation E1\n",
      "Loading observation E2\n",
      "Loading observation F1\n",
      "Loading observation F2\n",
      "Loading observation G1\n",
      "Loading observation G2\n",
      "Loading observation H1\n",
      "Loading observation H2\n",
      "Loading observation B3\n",
      "Loading observation B4\n",
      "Loading observation F3\n",
      "Loading observation F4\n"
     ]
    }
   ],
   "source": [
    "%matplotlib inline\n",
    "import numpy as np\n",
    "import pandas as pd\n",
    "import matplotlib.pyplot as plt\n",
    "import pickle\n",
    "import mpld3\n",
    "from interval import Interval\n",
    "from observation import Observation\n",
    "from constants import *\n",
    "from datetime import timedelta\n",
    "from tools import sequence_to_interval\n",
    "plt.style.use('ggplot')\n",
    "mpld3.enable_notebook()\n",
    "\n",
    "PATH = \"../../Data/GMPP_IRSDI/\"\n",
    "reactor_sites = [site+tranche for site in [\"A\",\"B\",\"C\",\"D\",\"E\",\"F\",\"G\",\"H\"] for tranche in [\"1\",\"2\"]] + [\"B3\",\"B4\",\"F3\",\"F4\"]\n",
    "\n",
    "suffixes = [\n",
    "\"DEB1-1\",\"DEB1-2\",\"DEB1-3\"#,\"DEB1-4\", # Débit de fuite au joint 1 (Gamme Large)\n",
    "# \"DEB2-1\",\"DEB2-2\",\"DEB2-3\",\"DEB2-4\", # Débit de fuite au joint 1 (Gamme Étroite)\n",
    "# \"DEB3-1\",\"DEB3-2\",\"DEB3-3\",\"DEB3-4\",\"DEB3-5\", # Débit d'injection au joint\n",
    "# \"PUI-\",  # Puissance thermique moyenne\n",
    "# \"PRE-\",  # Pression\n",
    "# \"TEM1-\", # Température ligne d'injection aux joints (en * Celsius) ### A rapprocher de DEB3\n",
    "# \"TEM2-\", # Température fuites joint 1\n",
    "# \"TEM3-1\",\"TEM3-2\",\"TEM3-3\",\"TEM3-4\",# Température eau joint 1 - 051PO ### A rapprocher de DEB1 DEB2\n",
    "# \"VIT-1\",\"VIT-2\",\"VIT-3\",\"VIT-4\"# Vitesse de rotation\n",
    "] \n",
    "\n",
    "obs_dict = {}\n",
    "\n",
    "for reactor_site in reactor_sites:\n",
    "    print(\"Loading observation \"+reactor_site)\n",
    "    obs_dict[reactor_site] = Observation(PATH,reactor_site,suffixes,verbose=0)\n",
    "\n"
   ]
  },
  {
   "cell_type": "markdown",
   "metadata": {},
   "source": [
    "### Normal mode"
   ]
  },
  {
   "cell_type": "code",
   "execution_count": 4,
   "metadata": {
    "collapsed": false
   },
   "outputs": [],
   "source": [
    "# Re- exectute that everytime you have a \n",
    "# TypeError: super(type, obj): obj must be an instance or subtype of type\n",
    "from scale import *\n",
    "from feature import *\n",
    "from tools import *\n",
    "from score import *"
   ]
  },
  {
   "cell_type": "markdown",
   "metadata": {},
   "source": [
    "<hr style=\"height:3px\">"
   ]
  },
  {
   "cell_type": "markdown",
   "metadata": {},
   "source": [
    "### Exploring PCA to find anomalies"
   ]
  },
  {
   "cell_type": "code",
   "execution_count": null,
   "metadata": {
    "collapsed": false
   },
   "outputs": [],
   "source": [
    "from sklearn.decomposition import PCA\n",
    "\n",
    "pca = PCA(3)\n",
    "rolling_size=40\n",
    "half_window = int(rolling_size / 2)\n",
    "\n",
    "df = obs.low_regime_intervals.split_between(obs.full_concatenated_df, time=timedelta(days=3))[-1][deb1[0]]\n",
    "data = df.values\n",
    "data = np.array([data[t - half_window:t + half_window] for t in range(half_window, len(df) - half_window)])\n",
    "t_data = pca.fit_transform(data)\n",
    "score_samples = np.sum(np.power(pca.inverse_transform(t_data) - data,2),axis=1)\n",
    "#score_samples = - pca.score_samples(data)\n",
    "index = df.index[half_window:len(df) - half_window]\n",
    "\n",
    "# df = obs.full_concatenated_df\n",
    "# values = df[deb1].values\n",
    "\n",
    "# index = df.index[half_window:len(df) - half_window]\n",
    "# data = np.array()\n",
    "\n",
    "dataframe = pd.DataFrame(index=index, data=np.array(score_samples).reshape(-1, 1), columns=[\"score\"])"
   ]
  },
  {
   "cell_type": "code",
   "execution_count": null,
   "metadata": {
    "collapsed": false
   },
   "outputs": [],
   "source": [
    "fig, axe = plt.subplots(figsize=(8,4))\n",
    "df.plot(ax = axe)\n",
    "(dataframe/30).plot(ax = axe)"
   ]
  },
  {
   "cell_type": "markdown",
   "metadata": {},
   "source": [
    "- Conclusion : PCA gives exactly the same indicator as variance\n",
    "\n",
    "### Exploring if the step function can be learned"
   ]
  },
  {
   "cell_type": "code",
   "execution_count": null,
   "metadata": {
    "collapsed": false
   },
   "outputs": [],
   "source": [
    "data = np.concatenate(([[]for i in range(3)],[[1],[2],[3]]),axis=0)\n",
    "\n",
    "#[[]for i in range(3)]"
   ]
  },
  {
   "cell_type": "code",
   "execution_count": null,
   "metadata": {
    "collapsed": false
   },
   "outputs": [],
   "source": [
    "rolling_size=36\n",
    "half_window = int(rolling_size / 2)-1\n",
    "data = []\n",
    "for df in obs.low_regime_intervals.split_between(MinutesScale().scale(obs.full_concatenated_df), time=timedelta(days=3)):\n",
    "    df = df[deb1[0]]\n",
    "    data+= [np.array([df.values[t - half_window:t + half_window] for t in range(half_window, len(df) - half_window)])]\n",
    "data = np.concatenate((data),axis=0)\n",
    "\n",
    "#features_df.loc[\"step\",\"6h\"].df.dropna().shape\n"
   ]
  },
  {
   "cell_type": "code",
   "execution_count": null,
   "metadata": {
    "collapsed": false
   },
   "outputs": [],
   "source": [
    "data.shape"
   ]
  },
  {
   "cell_type": "code",
   "execution_count": null,
   "metadata": {
    "collapsed": true
   },
   "outputs": [],
   "source": [
    "from keras.layers import Input,Concatenate, MaxPooling1D,Conv1D,UpSampling1D,Input, Dense, Lambda, Layer, Dropout, Conv1D, BatchNormalization, Activation, Reshape,Flatten\n",
    "from keras.losses import categorical_crossentropy\n",
    "from keras.models import Model\n",
    "from keras import backend as K\n",
    "from keras import metrics\n",
    "from keras import optimizers\n",
    "\n",
    "x = Input(shape=x_train.shape[1:])\n",
    "\n",
    "# Neural Network parameters\n",
    "intermediate_dim = 256\n",
    "latent_dim = 10 \n",
    "\n",
    "# Encoder\n",
    "h = x\n",
    "h = Dense(intermediate_dim, activation='relu')(h)\n",
    "h = Dense(intermediate_dim//2, activation='relu')(h)\n",
    "y = h\n",
    "step_learner = Model(x,y)\n",
    "step_learner.compile(optimizer='rmsprop', loss='mean_squared_error')\n",
    "\n",
    "epochs = 30\n",
    "batch_size = 256\n",
    "\n",
    "vae.fit(x_train, score_train,\n",
    "        shuffle=True,\n",
    "        epochs=epochs,\n",
    "        batch_size=batch_size,\n",
    "        validation_data=(x_test,score_test),\n",
    "        verbose=0\n",
    ")"
   ]
  },
  {
   "cell_type": "code",
   "execution_count": null,
   "metadata": {
    "collapsed": false
   },
   "outputs": [],
   "source": [
    "features_df.loc[\"step\",\"6h\"].df"
   ]
  },
  {
   "cell_type": "markdown",
   "metadata": {},
   "source": [
    "### Creating different train / test datasets\n",
    "\n",
    "**Required parameters**\n",
    "\n",
    "- A resampling_scale for optional resampling.\n",
    "- A length for the intervals. l_intervals.\n",
    "- The stride between the intervals. Default to l_intervals. Min to 1.\n",
    "- The proportion of test/train to evaluate if we don't overfit.\n",
    "- A scale for fitting the data between 0 and 1, or normalizing it. \n",
    "\n",
    "\n",
    "**Required information to analyse performance**\n",
    "\n",
    "- The method should return train and test, as well as all the corresponding timestamps."
   ]
  },
  {
   "cell_type": "code",
   "execution_count": 26,
   "metadata": {
    "collapsed": false
   },
   "outputs": [],
   "source": [
    "from sklearn.model_selection import train_test_split\n",
    "from sklearn.preprocessing import MinMaxScaler\n",
    "\n",
    "def generate_train_test(obs_dict, target, scale, l_intervals, stride, test_size=0.):\n",
    "    l = l_intervals // 2\n",
    "    \n",
    "    timestamps = pd.DatetimeIndex([])\n",
    "    reactor_sites_array = []\n",
    "    data = []\n",
    "    \n",
    "    for reactor_site, obs in obs_dict.items():\n",
    "        list_df_resampled = obs.low_regime_intervals.split_between(scale.scale(obs.full_concatenated_df[target]),time=timedelta(days=3))\n",
    "        for df in list_df_resampled:        \n",
    "            indices = np.arange(l,df.shape[0]-l, stride)\n",
    "            timestamps = timestamps.append(df.index[indices])\n",
    "            data += [df.iloc[i-l:i+l].values[np.newaxis,:,:] for i in indices]\n",
    "            reactor_sites_array+=[np.repeat(reactor_site,len(indices))]\n",
    "    \n",
    "    reactor_sites_array = np.concatenate(reactor_sites_array,axis=0)\n",
    "    data = np.concatenate(data, axis=0)  \n",
    "    \n",
    "    not_nan_idx = ~np.isnan(data).any(axis=1).any(axis=1)\n",
    "    data = data[not_nan_idx]\n",
    "    timestamps = timestamps[not_nan_idx]\n",
    "    reactor_sites_array = reactor_sites_array[not_nan_idx]\n",
    "    \n",
    "    data = (((data - data.min())/(data.max() - data.min()))*2 - 1)\n",
    "    #train, test, train_timestamps, test_timestamps = train_test_split(data, timestamps)\n",
    "    return data, timestamps, reactor_sites_array#train, test, timestamps"
   ]
  },
  {
   "cell_type": "code",
   "execution_count": 27,
   "metadata": {
    "collapsed": false
   },
   "outputs": [
    {
     "name": "stdout",
     "output_type": "stream",
     "text": [
      "(23006, 20, 2)\n",
      "The reactor corresponding : (23006,)\n",
      "The timestamps corresponding : (23006,)\n"
     ]
    }
   ],
   "source": [
    "target = [deb1[0],deb1[1]]\n",
    "data, timestamps,reactor_sites_array = generate_train_test(obs_dict, target, HourScale(12), 20, 5, test_size=0.)\n",
    "print(data.shape)\n",
    "print(\"The reactor corresponding :\",reactor_sites_array.shape)\n",
    "print(\"The timestamps corresponding :\",timestamps.shape)\n",
    "x_train = data"
   ]
  },
  {
   "cell_type": "markdown",
   "metadata": {},
   "source": [
    "### Training a simple neural network\n",
    "\n"
   ]
  },
  {
   "cell_type": "code",
   "execution_count": 28,
   "metadata": {
    "collapsed": false
   },
   "outputs": [],
   "source": [
    "from keras.layers import Input, Dense, Reshape, Flatten\n",
    "from keras.models import Model\n",
    "\n",
    "x = Input(shape=x_train.shape[1:])\n",
    "\n",
    "h = Flatten()(x)\n",
    "h = Dense(256, activation='elu')(h)\n",
    "h = Dense(64, use_bias=False)(h)\n",
    "h = Dense(256, activation='elu')(h)\n",
    "\n",
    "x_recons = Dense(x_train.shape[2]*x_train.shape[1])(h)\n",
    "x_recons = Reshape(x_train.shape[1:])(x_recons)\n",
    "\n",
    "mlt = Model(x, x_recons)\n",
    "mlt.compile('adam', 'mse')"
   ]
  },
  {
   "cell_type": "code",
   "execution_count": 29,
   "metadata": {
    "collapsed": false,
    "scrolled": true
   },
   "outputs": [
    {
     "name": "stdout",
     "output_type": "stream",
     "text": [
      "Epoch 1/50\n",
      "0s - loss: 0.0097\n",
      "Epoch 2/50\n",
      "0s - loss: 7.5624e-04\n",
      "Epoch 3/50\n",
      "0s - loss: 5.2009e-04\n",
      "Epoch 4/50\n",
      "0s - loss: 3.9582e-04\n",
      "Epoch 5/50\n",
      "0s - loss: 3.1957e-04\n",
      "Epoch 6/50\n",
      "0s - loss: 2.6461e-04\n",
      "Epoch 7/50\n",
      "0s - loss: 2.2359e-04\n",
      "Epoch 8/50\n",
      "0s - loss: 1.9177e-04\n",
      "Epoch 9/50\n",
      "0s - loss: 1.6705e-04\n",
      "Epoch 10/50\n",
      "0s - loss: 1.4645e-04\n",
      "Epoch 11/50\n",
      "0s - loss: 1.3013e-04\n",
      "Epoch 12/50\n",
      "0s - loss: 1.1532e-04\n",
      "Epoch 13/50\n",
      "0s - loss: 1.0224e-04\n",
      "Epoch 14/50\n",
      "0s - loss: 9.1046e-05\n",
      "Epoch 15/50\n",
      "0s - loss: 8.3522e-05\n",
      "Epoch 16/50\n",
      "0s - loss: 7.6579e-05\n",
      "Epoch 17/50\n",
      "0s - loss: 7.1175e-05\n",
      "Epoch 18/50\n",
      "0s - loss: 6.3759e-05\n",
      "Epoch 19/50\n",
      "0s - loss: 5.4578e-05\n",
      "Epoch 20/50\n",
      "0s - loss: 5.4838e-05\n",
      "Epoch 21/50\n",
      "0s - loss: 5.0585e-05\n",
      "Epoch 22/50\n",
      "0s - loss: 4.7427e-05\n",
      "Epoch 23/50\n",
      "0s - loss: 4.2697e-05\n",
      "Epoch 24/50\n",
      "0s - loss: 4.3962e-05\n",
      "Epoch 25/50\n",
      "0s - loss: 3.7733e-05\n",
      "Epoch 26/50\n",
      "0s - loss: 3.4860e-05\n",
      "Epoch 27/50\n",
      "0s - loss: 4.4158e-05\n",
      "Epoch 28/50\n",
      "0s - loss: 3.0774e-05\n",
      "Epoch 29/50\n",
      "0s - loss: 3.4704e-05\n",
      "Epoch 30/50\n",
      "0s - loss: 2.8603e-05\n",
      "Epoch 31/50\n",
      "0s - loss: 3.3248e-05\n",
      "Epoch 32/50\n",
      "0s - loss: 3.7706e-05\n",
      "Epoch 33/50\n",
      "0s - loss: 2.3756e-05\n",
      "Epoch 34/50\n",
      "0s - loss: 3.0249e-05\n",
      "Epoch 35/50\n",
      "0s - loss: 2.8127e-05\n",
      "Epoch 36/50\n",
      "0s - loss: 2.8085e-05\n",
      "Epoch 37/50\n",
      "0s - loss: 2.3402e-05\n",
      "Epoch 38/50\n",
      "0s - loss: 3.0308e-05\n",
      "Epoch 39/50\n",
      "0s - loss: 2.6532e-05\n",
      "Epoch 40/50\n",
      "0s - loss: 2.2115e-05\n",
      "Epoch 41/50\n",
      "0s - loss: 2.7745e-05\n",
      "Epoch 42/50\n",
      "0s - loss: 2.4556e-05\n",
      "Epoch 43/50\n",
      "0s - loss: 2.1103e-05\n",
      "Epoch 44/50\n",
      "0s - loss: 2.3743e-05\n",
      "Epoch 45/50\n",
      "0s - loss: 2.1359e-05\n",
      "Epoch 46/50\n",
      "0s - loss: 2.4396e-05\n",
      "Epoch 47/50\n",
      "0s - loss: 2.0828e-05\n",
      "Epoch 48/50\n",
      "0s - loss: 1.9369e-05\n",
      "Epoch 49/50\n",
      "0s - loss: 2.5061e-05\n",
      "Epoch 50/50\n",
      "0s - loss: 1.4000e-05\n"
     ]
    },
    {
     "data": {
      "text/plain": [
       "<keras.callbacks.History at 0x7f87644b3b38>"
      ]
     },
     "execution_count": 29,
     "metadata": {},
     "output_type": "execute_result"
    }
   ],
   "source": [
    "epochs = 50\n",
    "batch_size = 256\n",
    "\n",
    "mlt.fit(x_train, x_train,\n",
    "        shuffle=True,\n",
    "        epochs=epochs,\n",
    "        batch_size=batch_size,\n",
    "        verbose=2\n",
    ")"
   ]
  },
  {
   "cell_type": "code",
   "execution_count": 30,
   "metadata": {
    "collapsed": false
   },
   "outputs": [
    {
     "name": "stdout",
     "output_type": "stream",
     "text": [
      "(23006, 20, 2)\n"
     ]
    }
   ],
   "source": [
    "x_train_reconstructed = mlt.predict(x_train)\n",
    "print(x_train_reconstructed.shape)"
   ]
  },
  {
   "cell_type": "code",
   "execution_count": 31,
   "metadata": {
    "collapsed": false
   },
   "outputs": [],
   "source": [
    "score = np.sum(np.sum((x_train_reconstructed - x_train)**2,axis = 1),axis=1) # All features combined"
   ]
  },
  {
   "cell_type": "code",
   "execution_count": 32,
   "metadata": {
    "collapsed": false
   },
   "outputs": [],
   "source": [
    "score_index = score.argsort()[::-1]\n",
    "results = list(zip(timestamps[score_index],score[score_index],reactor_sites_array[score_index]))"
   ]
  },
  {
   "cell_type": "code",
   "execution_count": 57,
   "metadata": {
    "collapsed": false
   },
   "outputs": [
    {
     "name": "stdout",
     "output_type": "stream",
     "text": [
      "0.003544343707\n",
      "2006-07-26 12:00:00\n",
      "F2\n"
     ]
    },
    {
     "data": {
      "text/plain": [
       "<matplotlib.axes._subplots.AxesSubplot at 0x7f872810e710>"
      ]
     },
     "execution_count": 57,
     "metadata": {},
     "output_type": "execute_result"
    },
    {
     "data": {
      "image/png": "[encoded data removed]",
      "text/html": [
       "\n",
       "\n",
       "<style>\n",
       "\n",
       "</style>\n",
       "\n",
       "<div id=\"fig_el620111402184712203922670293949\"></div>\n",
       "<script>\n",
       "function mpld3_load_lib(url, callback){\n",
       "  var s = document.createElement('script');\n",
       "  s.src = url;\n",
       "  s.async = true;\n",
       "  s.onreadystatechange = s.onload = callback;\n",
       "  s.onerror = function(){console.warn(\"failed to load library \" + url);};\n",
       "  document.getElementsByTagName(\"head\")[0].appendChild(s);\n",
       "}\n",
       "\n",
       "if(typeof(mpld3) !== \"undefined\" && mpld3._mpld3IsLoaded){\n",
       "   // already loaded: just create the figure\n",
       "   !function(mpld3){\n",
       "       \n",
       "       mpld3.draw_figure(\"fig_el620111402184712203922670293949\", {\"width\": 432.0, \"height\": 288.0, \"axes\": [{\"bbox\": [0.125, 0.125, 0.775, 0.755], \"xlim\": [19224720.0, 19239120.0], \"ylim\": [335.07125091552734, 861.425178527832], \"xdomain\": [[2006, 6, 21, 12, 0, 0, 0], [2006, 6, 31, 12, 0, 0, 0]], \"ydomain\": [335.07125091552734, 861.425178527832], \"xscale\": \"date\", \"yscale\": \"linear\", \"axes\": [{\"position\": \"bottom\", \"nticks\": 2, \"tickvalues\": null, \"tickformat\": null, \"scale\": \"linear\", \"fontsize\": 10.0, \"grid\": {\"gridOn\": true, \"color\": \"#FFFFFF\", \"dasharray\": \"none\", \"alpha\": 1.0}, \"visible\": true}, {\"position\": \"left\", \"nticks\": 7, \"tickvalues\": null, \"tickformat\": null, \"scale\": \"linear\", \"fontsize\": 10.0, \"grid\": {\"gridOn\": true, \"color\": \"#FFFFFF\", \"dasharray\": \"none\", \"alpha\": 1.0}, \"visible\": true}], \"axesbg\": \"#E5E5E5\", \"axesbgalpha\": null, \"zoomable\": true, \"id\": \"el62011140218469508880\", \"lines\": [{\"data\": \"data01\", \"xindex\": 0, \"yindex\": 1, \"coordinates\": \"data\", \"id\": \"el62011140218468737208\", \"color\": \"#E24A33\", \"linewidth\": 1.5, \"dasharray\": \"none\", \"alpha\": 1, \"zorder\": 2, \"drawstyle\": \"default\"}, {\"data\": \"data01\", \"xindex\": 0, \"yindex\": 2, \"coordinates\": \"data\", \"id\": \"el62011140217470047680\", \"color\": \"#348ABD\", \"linewidth\": 1.5, \"dasharray\": \"none\", \"alpha\": 1, \"zorder\": 2, \"drawstyle\": \"default\"}, {\"data\": \"data02\", \"xindex\": 0, \"yindex\": 1, \"coordinates\": \"axes\", \"id\": \"el62011140217470102664\", \"color\": \"#E24A33\", \"linewidth\": 1.5, \"dasharray\": \"none\", \"alpha\": 1, \"zorder\": 1000002.0, \"drawstyle\": \"default\"}, {\"data\": \"data02\", \"xindex\": 0, \"yindex\": 2, \"coordinates\": \"axes\", \"id\": \"el62011140217469605480\", \"color\": \"#348ABD\", \"linewidth\": 1.5, \"dasharray\": \"none\", \"alpha\": 1, \"zorder\": 1000002.0, \"drawstyle\": \"default\"}], \"paths\": [{\"data\": \"data03\", \"xindex\": 0, \"yindex\": 1, \"coordinates\": \"axes\", \"pathcodes\": [\"M\", \"L\", \"S\", \"L\", \"S\", \"L\", \"S\", \"L\", \"S\", \"Z\"], \"id\": \"el62011140217470049920\", \"dasharray\": \"none\", \"alpha\": 0.8, \"facecolor\": \"#E5E5E5\", \"edgecolor\": \"#CCCCCC\", \"edgewidth\": 0.5, \"zorder\": 1000000.0}], \"markers\": [], \"texts\": [{\"text\": \"date\", \"position\": [0.49999999999999994, -0.19591611479028695], \"coordinates\": \"axes\", \"h_anchor\": \"middle\", \"v_baseline\": \"hanging\", \"rotation\": -0.0, \"fontsize\": 12.0, \"color\": \"#555555\", \"alpha\": 1, \"zorder\": 3, \"id\": \"el62011140218469769960\"}, {\"text\": \"DEB1-1\", \"position\": [0.861857825567503, 0.9218175128771156], \"coordinates\": \"axes\", \"h_anchor\": \"start\", \"v_baseline\": \"auto\", \"rotation\": -0.0, \"fontsize\": 10.0, \"color\": \"#000000\", \"alpha\": 1, \"zorder\": 1000003.0, \"id\": \"el62011140217470101488\"}, {\"text\": \"DEB1-2\", \"position\": [0.861857825567503, 0.8528329654157469], \"coordinates\": \"axes\", \"h_anchor\": \"start\", \"v_baseline\": \"auto\", \"rotation\": -0.0, \"fontsize\": 10.0, \"color\": \"#000000\", \"alpha\": 1, \"zorder\": 1000003.0, \"id\": \"el62011140217469604192\"}], \"collections\": [], \"images\": [], \"sharex\": [], \"sharey\": []}], \"data\": {\"data01\": [[19224720.0, 417.49298095703125, 672.1423645019531], [19225440.0, 435.26763916015625, 674.0714416503906], [19226160.0, 420.3494873046875, 663.015380859375], [19226880.0, 439.40000915527344, 659.1975402832031], [19227600.0, 412.64463806152344, 691.9761962890625], [19228320.0, 433.0, 683.3636474609375], [19229040.0, 408.0, 726.625], [19229760.0, 419.43482971191406, 782.1038818359375], [19230480.0, 410.0, 837.5], [19231200.0, 369.089599609375, 724.4107055664062], [19231920.0, 358.9964294433594, 715.5136413574219], [19232640.0, 363.4878845214844, 692.9375], [19233360.0, 374.7479705810547, 698.3333129882812], [19234080.0, 378.5293273925781, 691.183349609375], [19234800.0, 366.4949493408203, 747.0], [19235520.0, 396.0754699707031, 647.0], [19236240.0, 381.2105407714844, 649.0], [19236960.0, 400.0, 664.9476623535156], [19237680.0, 393.9329071044922, 676.25], [19238400.0, 389.4807434082031, 642.0339965820312], [19239120.0, 373.67149353027344, 651.0325012207031]], \"data02\": [[0.7782258064516129, 0.9379139072847682, 0.8689293598233996], [0.8379629629629629, 0.9379139072847682, 0.8689293598233996]], \"data03\": [[0.7722520908004779, 0.8252391464311994], [0.9790919952210274, 0.8252391464311994], [0.9850657108721624, 0.8252391464311994], [0.9850657108721624, 0.834437086092715], [0.9850657108721624, 0.9678072111846947], [0.9850657108721624, 0.9770051508462105], [0.9790919952210274, 0.9770051508462105], [0.7722520908004779, 0.9770051508462105], [0.7662783751493428, 0.9770051508462105], [0.7662783751493428, 0.9678072111846947], [0.7662783751493428, 0.834437086092715], [0.7662783751493428, 0.8252391464311994], [0.7722520908004779, 0.8252391464311994]]}, \"id\": \"el62011140218471220392\", \"plugins\": [{\"type\": \"reset\"}, {\"type\": \"zoom\", \"button\": true, \"enabled\": false}, {\"type\": \"boxzoom\", \"button\": true, \"enabled\": false}]});\n",
       "   }(mpld3);\n",
       "}else if(typeof define === \"function\" && define.amd){\n",
       "   // require.js is available: use it to load d3/mpld3\n",
       "   require.config({paths: {d3: \"https://mpld3.github.io/js/d3.v3.min\"}});\n",
       "   require([\"d3\"], function(d3){\n",
       "      window.d3 = d3;\n",
       "      mpld3_load_lib(\"https://mpld3.github.io/js/mpld3.v0.3.js\", function(){\n",
       "         \n",
       "         mpld3.draw_figure(\"fig_el620111402184712203922670293949\", {\"width\": 432.0, \"height\": 288.0, \"axes\": [{\"bbox\": [0.125, 0.125, 0.775, 0.755], \"xlim\": [19224720.0, 19239120.0], \"ylim\": [335.07125091552734, 861.425178527832], \"xdomain\": [[2006, 6, 21, 12, 0, 0, 0], [2006, 6, 31, 12, 0, 0, 0]], \"ydomain\": [335.07125091552734, 861.425178527832], \"xscale\": \"date\", \"yscale\": \"linear\", \"axes\": [{\"position\": \"bottom\", \"nticks\": 2, \"tickvalues\": null, \"tickformat\": null, \"scale\": \"linear\", \"fontsize\": 10.0, \"grid\": {\"gridOn\": true, \"color\": \"#FFFFFF\", \"dasharray\": \"none\", \"alpha\": 1.0}, \"visible\": true}, {\"position\": \"left\", \"nticks\": 7, \"tickvalues\": null, \"tickformat\": null, \"scale\": \"linear\", \"fontsize\": 10.0, \"grid\": {\"gridOn\": true, \"color\": \"#FFFFFF\", \"dasharray\": \"none\", \"alpha\": 1.0}, \"visible\": true}], \"axesbg\": \"#E5E5E5\", \"axesbgalpha\": null, \"zoomable\": true, \"id\": \"el62011140218469508880\", \"lines\": [{\"data\": \"data01\", \"xindex\": 0, \"yindex\": 1, \"coordinates\": \"data\", \"id\": \"el62011140218468737208\", \"color\": \"#E24A33\", \"linewidth\": 1.5, \"dasharray\": \"none\", \"alpha\": 1, \"zorder\": 2, \"drawstyle\": \"default\"}, {\"data\": \"data01\", \"xindex\": 0, \"yindex\": 2, \"coordinates\": \"data\", \"id\": \"el62011140217470047680\", \"color\": \"#348ABD\", \"linewidth\": 1.5, \"dasharray\": \"none\", \"alpha\": 1, \"zorder\": 2, \"drawstyle\": \"default\"}, {\"data\": \"data02\", \"xindex\": 0, \"yindex\": 1, \"coordinates\": \"axes\", \"id\": \"el62011140217470102664\", \"color\": \"#E24A33\", \"linewidth\": 1.5, \"dasharray\": \"none\", \"alpha\": 1, \"zorder\": 1000002.0, \"drawstyle\": \"default\"}, {\"data\": \"data02\", \"xindex\": 0, \"yindex\": 2, \"coordinates\": \"axes\", \"id\": \"el62011140217469605480\", \"color\": \"#348ABD\", \"linewidth\": 1.5, \"dasharray\": \"none\", \"alpha\": 1, \"zorder\": 1000002.0, \"drawstyle\": \"default\"}], \"paths\": [{\"data\": \"data03\", \"xindex\": 0, \"yindex\": 1, \"coordinates\": \"axes\", \"pathcodes\": [\"M\", \"L\", \"S\", \"L\", \"S\", \"L\", \"S\", \"L\", \"S\", \"Z\"], \"id\": \"el62011140217470049920\", \"dasharray\": \"none\", \"alpha\": 0.8, \"facecolor\": \"#E5E5E5\", \"edgecolor\": \"#CCCCCC\", \"edgewidth\": 0.5, \"zorder\": 1000000.0}], \"markers\": [], \"texts\": [{\"text\": \"date\", \"position\": [0.49999999999999994, -0.19591611479028695], \"coordinates\": \"axes\", \"h_anchor\": \"middle\", \"v_baseline\": \"hanging\", \"rotation\": -0.0, \"fontsize\": 12.0, \"color\": \"#555555\", \"alpha\": 1, \"zorder\": 3, \"id\": \"el62011140218469769960\"}, {\"text\": \"DEB1-1\", \"position\": [0.861857825567503, 0.9218175128771156], \"coordinates\": \"axes\", \"h_anchor\": \"start\", \"v_baseline\": \"auto\", \"rotation\": -0.0, \"fontsize\": 10.0, \"color\": \"#000000\", \"alpha\": 1, \"zorder\": 1000003.0, \"id\": \"el62011140217470101488\"}, {\"text\": \"DEB1-2\", \"position\": [0.861857825567503, 0.8528329654157469], \"coordinates\": \"axes\", \"h_anchor\": \"start\", \"v_baseline\": \"auto\", \"rotation\": -0.0, \"fontsize\": 10.0, \"color\": \"#000000\", \"alpha\": 1, \"zorder\": 1000003.0, \"id\": \"el62011140217469604192\"}], \"collections\": [], \"images\": [], \"sharex\": [], \"sharey\": []}], \"data\": {\"data01\": [[19224720.0, 417.49298095703125, 672.1423645019531], [19225440.0, 435.26763916015625, 674.0714416503906], [19226160.0, 420.3494873046875, 663.015380859375], [19226880.0, 439.40000915527344, 659.1975402832031], [19227600.0, 412.64463806152344, 691.9761962890625], [19228320.0, 433.0, 683.3636474609375], [19229040.0, 408.0, 726.625], [19229760.0, 419.43482971191406, 782.1038818359375], [19230480.0, 410.0, 837.5], [19231200.0, 369.089599609375, 724.4107055664062], [19231920.0, 358.9964294433594, 715.5136413574219], [19232640.0, 363.4878845214844, 692.9375], [19233360.0, 374.7479705810547, 698.3333129882812], [19234080.0, 378.5293273925781, 691.183349609375], [19234800.0, 366.4949493408203, 747.0], [19235520.0, 396.0754699707031, 647.0], [19236240.0, 381.2105407714844, 649.0], [19236960.0, 400.0, 664.9476623535156], [19237680.0, 393.9329071044922, 676.25], [19238400.0, 389.4807434082031, 642.0339965820312], [19239120.0, 373.67149353027344, 651.0325012207031]], \"data02\": [[0.7782258064516129, 0.9379139072847682, 0.8689293598233996], [0.8379629629629629, 0.9379139072847682, 0.8689293598233996]], \"data03\": [[0.7722520908004779, 0.8252391464311994], [0.9790919952210274, 0.8252391464311994], [0.9850657108721624, 0.8252391464311994], [0.9850657108721624, 0.834437086092715], [0.9850657108721624, 0.9678072111846947], [0.9850657108721624, 0.9770051508462105], [0.9790919952210274, 0.9770051508462105], [0.7722520908004779, 0.9770051508462105], [0.7662783751493428, 0.9770051508462105], [0.7662783751493428, 0.9678072111846947], [0.7662783751493428, 0.834437086092715], [0.7662783751493428, 0.8252391464311994], [0.7722520908004779, 0.8252391464311994]]}, \"id\": \"el62011140218471220392\", \"plugins\": [{\"type\": \"reset\"}, {\"type\": \"zoom\", \"button\": true, \"enabled\": false}, {\"type\": \"boxzoom\", \"button\": true, \"enabled\": false}]});\n",
       "      });\n",
       "    });\n",
       "}else{\n",
       "    // require.js not available: dynamically load d3 & mpld3\n",
       "    mpld3_load_lib(\"https://mpld3.github.io/js/d3.v3.min.js\", function(){\n",
       "         mpld3_load_lib(\"https://mpld3.github.io/js/mpld3.v0.3.js\", function(){\n",
       "                 \n",
       "                 mpld3.draw_figure(\"fig_el620111402184712203922670293949\", {\"width\": 432.0, \"height\": 288.0, \"axes\": [{\"bbox\": [0.125, 0.125, 0.775, 0.755], \"xlim\": [19224720.0, 19239120.0], \"ylim\": [335.07125091552734, 861.425178527832], \"xdomain\": [[2006, 6, 21, 12, 0, 0, 0], [2006, 6, 31, 12, 0, 0, 0]], \"ydomain\": [335.07125091552734, 861.425178527832], \"xscale\": \"date\", \"yscale\": \"linear\", \"axes\": [{\"position\": \"bottom\", \"nticks\": 2, \"tickvalues\": null, \"tickformat\": null, \"scale\": \"linear\", \"fontsize\": 10.0, \"grid\": {\"gridOn\": true, \"color\": \"#FFFFFF\", \"dasharray\": \"none\", \"alpha\": 1.0}, \"visible\": true}, {\"position\": \"left\", \"nticks\": 7, \"tickvalues\": null, \"tickformat\": null, \"scale\": \"linear\", \"fontsize\": 10.0, \"grid\": {\"gridOn\": true, \"color\": \"#FFFFFF\", \"dasharray\": \"none\", \"alpha\": 1.0}, \"visible\": true}], \"axesbg\": \"#E5E5E5\", \"axesbgalpha\": null, \"zoomable\": true, \"id\": \"el62011140218469508880\", \"lines\": [{\"data\": \"data01\", \"xindex\": 0, \"yindex\": 1, \"coordinates\": \"data\", \"id\": \"el62011140218468737208\", \"color\": \"#E24A33\", \"linewidth\": 1.5, \"dasharray\": \"none\", \"alpha\": 1, \"zorder\": 2, \"drawstyle\": \"default\"}, {\"data\": \"data01\", \"xindex\": 0, \"yindex\": 2, \"coordinates\": \"data\", \"id\": \"el62011140217470047680\", \"color\": \"#348ABD\", \"linewidth\": 1.5, \"dasharray\": \"none\", \"alpha\": 1, \"zorder\": 2, \"drawstyle\": \"default\"}, {\"data\": \"data02\", \"xindex\": 0, \"yindex\": 1, \"coordinates\": \"axes\", \"id\": \"el62011140217470102664\", \"color\": \"#E24A33\", \"linewidth\": 1.5, \"dasharray\": \"none\", \"alpha\": 1, \"zorder\": 1000002.0, \"drawstyle\": \"default\"}, {\"data\": \"data02\", \"xindex\": 0, \"yindex\": 2, \"coordinates\": \"axes\", \"id\": \"el62011140217469605480\", \"color\": \"#348ABD\", \"linewidth\": 1.5, \"dasharray\": \"none\", \"alpha\": 1, \"zorder\": 1000002.0, \"drawstyle\": \"default\"}], \"paths\": [{\"data\": \"data03\", \"xindex\": 0, \"yindex\": 1, \"coordinates\": \"axes\", \"pathcodes\": [\"M\", \"L\", \"S\", \"L\", \"S\", \"L\", \"S\", \"L\", \"S\", \"Z\"], \"id\": \"el62011140217470049920\", \"dasharray\": \"none\", \"alpha\": 0.8, \"facecolor\": \"#E5E5E5\", \"edgecolor\": \"#CCCCCC\", \"edgewidth\": 0.5, \"zorder\": 1000000.0}], \"markers\": [], \"texts\": [{\"text\": \"date\", \"position\": [0.49999999999999994, -0.19591611479028695], \"coordinates\": \"axes\", \"h_anchor\": \"middle\", \"v_baseline\": \"hanging\", \"rotation\": -0.0, \"fontsize\": 12.0, \"color\": \"#555555\", \"alpha\": 1, \"zorder\": 3, \"id\": \"el62011140218469769960\"}, {\"text\": \"DEB1-1\", \"position\": [0.861857825567503, 0.9218175128771156], \"coordinates\": \"axes\", \"h_anchor\": \"start\", \"v_baseline\": \"auto\", \"rotation\": -0.0, \"fontsize\": 10.0, \"color\": \"#000000\", \"alpha\": 1, \"zorder\": 1000003.0, \"id\": \"el62011140217470101488\"}, {\"text\": \"DEB1-2\", \"position\": [0.861857825567503, 0.8528329654157469], \"coordinates\": \"axes\", \"h_anchor\": \"start\", \"v_baseline\": \"auto\", \"rotation\": -0.0, \"fontsize\": 10.0, \"color\": \"#000000\", \"alpha\": 1, \"zorder\": 1000003.0, \"id\": \"el62011140217469604192\"}], \"collections\": [], \"images\": [], \"sharex\": [], \"sharey\": []}], \"data\": {\"data01\": [[19224720.0, 417.49298095703125, 672.1423645019531], [19225440.0, 435.26763916015625, 674.0714416503906], [19226160.0, 420.3494873046875, 663.015380859375], [19226880.0, 439.40000915527344, 659.1975402832031], [19227600.0, 412.64463806152344, 691.9761962890625], [19228320.0, 433.0, 683.3636474609375], [19229040.0, 408.0, 726.625], [19229760.0, 419.43482971191406, 782.1038818359375], [19230480.0, 410.0, 837.5], [19231200.0, 369.089599609375, 724.4107055664062], [19231920.0, 358.9964294433594, 715.5136413574219], [19232640.0, 363.4878845214844, 692.9375], [19233360.0, 374.7479705810547, 698.3333129882812], [19234080.0, 378.5293273925781, 691.183349609375], [19234800.0, 366.4949493408203, 747.0], [19235520.0, 396.0754699707031, 647.0], [19236240.0, 381.2105407714844, 649.0], [19236960.0, 400.0, 664.9476623535156], [19237680.0, 393.9329071044922, 676.25], [19238400.0, 389.4807434082031, 642.0339965820312], [19239120.0, 373.67149353027344, 651.0325012207031]], \"data02\": [[0.7782258064516129, 0.9379139072847682, 0.8689293598233996], [0.8379629629629629, 0.9379139072847682, 0.8689293598233996]], \"data03\": [[0.7722520908004779, 0.8252391464311994], [0.9790919952210274, 0.8252391464311994], [0.9850657108721624, 0.8252391464311994], [0.9850657108721624, 0.834437086092715], [0.9850657108721624, 0.9678072111846947], [0.9850657108721624, 0.9770051508462105], [0.9790919952210274, 0.9770051508462105], [0.7722520908004779, 0.9770051508462105], [0.7662783751493428, 0.9770051508462105], [0.7662783751493428, 0.9678072111846947], [0.7662783751493428, 0.834437086092715], [0.7662783751493428, 0.8252391464311994], [0.7722520908004779, 0.8252391464311994]]}, \"id\": \"el62011140218471220392\", \"plugins\": [{\"type\": \"reset\"}, {\"type\": \"zoom\", \"button\": true, \"enabled\": false}, {\"type\": \"boxzoom\", \"button\": true, \"enabled\": false}]});\n",
       "            })\n",
       "         });\n",
       "}\n",
       "</script>"
      ],
      "text/plain": [
       "<matplotlib.figure.Figure at 0x7f87282b04a8>"
      ]
     },
     "metadata": {},
     "output_type": "display_data"
    }
   ],
   "source": [
    "timestamp, s, reactor_site = results[102]\n",
    "print(s)\n",
    "print(timestamp)\n",
    "print(reactor_site)\n",
    "HourScale(12).scale(obs_dict[reactor_site].full_concatenated_df[target])[timestamp-timedelta(days=5):timestamp+timedelta(days=5)].plot()"
   ]
  },
  {
   "cell_type": "code",
   "execution_count": null,
   "metadata": {
    "collapsed": false
   },
   "outputs": [],
   "source": [
    "fig, ax = plt.subplots(1)\n",
    "DayScale(1).scale(obs.full_concatenated_df[[deb1[0],deb1[1]]]).plot(ax = ax)\n",
    "pd.DataFrame(index = timestamps, data = 100000*score).plot(ax = ax)"
   ]
  },
  {
   "cell_type": "code",
   "execution_count": null,
   "metadata": {
    "collapsed": false
   },
   "outputs": [],
   "source": [
    "#DayScale(1).scale(obs.full_concatenated_df[[deb1[0]]])#[t-timedelta(days=10):t+timedelta(days=10)]\n",
    "obs.full_concatenated_df#[t-timedelta(days=10):t+timedelta(days=10)]"
   ]
  },
  {
   "cell_type": "code",
   "execution_count": null,
   "metadata": {
    "collapsed": true
   },
   "outputs": [],
   "source": []
  }
 ],
 "metadata": {
  "anaconda-cloud": {},
  "kernelspec": {
   "display_name": "Python [conda env:tsc]",
   "language": "python",
   "name": "conda-env-tsc-py"
  },
  "language_info": {
   "codemirror_mode": {
    "name": "ipython",
    "version": 3
   },
   "file_extension": ".py",
   "mimetype": "text/x-python",
   "name": "python",
   "nbconvert_exporter": "python",
   "pygments_lexer": "ipython3",
   "version": "3.6.1"
  }
 },
 "nbformat": 4,
 "nbformat_minor": 2
}

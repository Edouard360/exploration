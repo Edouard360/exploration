{
 "cells": [
  {
   "cell_type": "markdown",
   "metadata": {},
   "source": [
    "# Autoencoders for anomaly detection in time series\n",
    "\n",
    "To assess the quality of an autoencoder, we can analyse its performance on a classification task, using the UCR benchmark dataset for time series.\n",
    "\n",
    "## References\n",
    "\n",
    "2016 - *Variational Inference for On-line Anomaly Detection in High-Dimensional Time Series* (cited by 4)\n",
    "\n",
    "2014 - *Semi-supervised Learning with Deep Generative Models* (Cited by 276)\n",
    "\n",
    "**Related articles:**\n",
    "\n",
    "2013 - *SUCCESS: A New Approach for Semi-Supervised Classification of Time-Series* (Cited by 14)\n",
    "\n",
    "2013 - *Semi-Supervised Time Series Classification* (Cited by 193)"
   ]
  },
  {
   "cell_type": "code",
   "execution_count": 34,
   "metadata": {
    "collapsed": false
   },
   "outputs": [
    {
     "name": "stdout",
     "output_type": "stream",
     "text": [
      "Dataset : ChlorineConcentration\n",
      "\n",
      "x_train shape : (467, 166)\n",
      "x_test shape : (3840, 166)\n",
      "\n",
      "Y_train shape : (467, 3)\n",
      "Y_test shape : (3840, 3)\n"
     ]
    }
   ],
   "source": [
    "import numpy as np\n",
    "from keras.utils import np_utils\n",
    "\n",
    "def data():\n",
    "    def readucr(filename):\n",
    "        data = np.loadtxt(filename, delimiter=',')\n",
    "        Y = data[:, 0]\n",
    "        X = data[:, 1:]\n",
    "        return X, Y\n",
    "\n",
    "    def to_categorical(y, nb_classes):\n",
    "        return np_utils.to_categorical((y - y.min()) / (y.max() - y.min()) * (nb_classes - 1), nb_classes)\n",
    "\n",
    "    fdir = \"../../../ucr/\"  # Path to the UCR Time Series Data directory\n",
    "    fname = \"ChlorineConcentration\"\n",
    "    print(\"Dataset : \" + fname)\n",
    "\n",
    "    x_train, y_train = readucr(fdir + fname + '/' + fname + '_TRAIN')\n",
    "    x_test, y_test = readucr(fdir + fname + '/' + fname + '_TEST')\n",
    "    nb_classes = len(np.unique(y_test))\n",
    "    Y_train = to_categorical(y_train, nb_classes)\n",
    "    Y_test = to_categorical(y_test, nb_classes)\n",
    "    return x_train, x_test, Y_train, Y_test\n",
    "\n",
    "x_train, x_test, Y_train, Y_test = data()\n",
    "print(\"\\nx_train shape :\",x_train.shape)\n",
    "print(\"x_test shape :\",x_test.shape)\n",
    "print(\"\\nY_train shape :\",Y_train.shape)\n",
    "print(\"Y_test shape :\",Y_test.shape)"
   ]
  },
  {
   "cell_type": "code",
   "execution_count": 35,
   "metadata": {
    "collapsed": true
   },
   "outputs": [],
   "source": [
    "def crop_input(x_train, x_test):\n",
    "    crop_length = 160\n",
    "\n",
    "    x_train = x_train[:, :crop_length]\n",
    "    x_test = x_test[:, :crop_length]\n",
    "    return x_train, x_test\n",
    "    \n",
    "def normalize_input(x_train, x_test):\n",
    "    x_concat = np.concatenate([x_train, x_test])\n",
    "    x_concat = (x_concat - x_concat.min()) / (x_concat.max() - x_concat.min()) * 2 - 1.\n",
    "    x_train = x_concat[:x_train.shape[0]]\n",
    "    x_test = x_concat[x_train.shape[0]:]\n",
    "\n",
    "    x_train = x_train.reshape(x_train.shape + (1,))\n",
    "    x_test = x_test.reshape(x_test.shape + (1,))\n",
    "    x_concat = np.concatenate([x_train, x_test],axis = 0)\n",
    "    return x_train, x_test, x_concat\n",
    "\n",
    "x_train, x_test, x_concat = normalize_input(x_train, x_test)"
   ]
  },
  {
   "cell_type": "markdown",
   "metadata": {},
   "source": [
    "## Performance of the network"
   ]
  },
  {
   "cell_type": "code",
   "execution_count": 36,
   "metadata": {
    "collapsed": false
   },
   "outputs": [
    {
     "data": {
      "text/plain": [
       "<keras.callbacks.History at 0x7f79fc18cb38>"
      ]
     },
     "execution_count": 36,
     "metadata": {},
     "output_type": "execute_result"
    }
   ],
   "source": [
    "from keras.layers import Input, Flatten, Dense, Reshape\n",
    "from keras.models import Model\n",
    "\n",
    "x = Input(shape=(x_train.shape[1],))\n",
    "\n",
    "h = Dense(512, activation='elu')(x)\n",
    "h = Dense(64, use_bias=False)(h)\n",
    "h = Dense(512, activation='elu')(h)\n",
    "\n",
    "x_recons = Dense(x_train.shape[1])(h)\n",
    "\n",
    "y = Dense(Y_train.shape[1], activation='softmax')(h)\n",
    "\n",
    "mlt = Model(x, [x_recons, y])\n",
    "mlt.compile('adam', ['mse', 'categorical_crossentropy'], metrics=['acc'])\n",
    "\n",
    "epochs = 3000\n",
    "batch_size = 256\n",
    "mlt.fit(x_concat.squeeze(), [x_concat.squeeze(), np.concatenate([Y_train, Y_test])],\n",
    "                   sample_weight=[np.ones(len(x_concat)),\n",
    "                                  np.concatenate([np.ones(len(Y_train)),\n",
    "                                                  np.zeros(len(Y_test))])],\n",
    "                   shuffle=True,\n",
    "                   epochs=epochs,\n",
    "                   batch_size=batch_size,\n",
    "                   verbose=0\n",
    "        )"
   ]
  },
  {
   "cell_type": "markdown",
   "metadata": {
    "collapsed": true
   },
   "source": [
    "### Assessing the performance\n",
    "\n",
    "The quality of the autoencoder is given by the accuracy of the underlying classifier. For this specific dataset, we achieve state of the art performance for the time series classification. "
   ]
  },
  {
   "cell_type": "code",
   "execution_count": 37,
   "metadata": {
    "collapsed": false
   },
   "outputs": [
    {
     "name": "stdout",
     "output_type": "stream",
     "text": [
      "ACC : 0.882291666667\n"
     ]
    }
   ],
   "source": [
    "acc = (np.argmax(mlt.predict(x_test.squeeze())[1], axis=1) == np.argmax(Y_test, axis=-1)).mean()\n",
    "print('ACC :', acc)"
   ]
  },
  {
   "cell_type": "markdown",
   "metadata": {},
   "source": [
    "**Conclusion:** \n",
    "\n",
    "We have therefore found a good method for dimensionality reduction, and found a network which can help us extract fewer features that are representative of the data.\n",
    "\n",
    "Afterwards, the reconstruction error of a given sample is a good indicator of the *normality* of the sample.\n",
    "\n",
    "If the error is high, it's probably is an outlier.\n",
    "\n",
    "## Improving the network\n",
    "\n",
    "An interesting task would be to do **cross validation** between **different neural networks implementation** on this dataset and the others of the ucr benchmark to find a **generally best suited autoencoder** for time series. \n",
    "\n",
    "We could afterwards pipe this analysis to our data and use the best method to identify the anomalies in an unsupervised fashion.\n",
    "\n",
    "Also an interesting challenge would be to **minimize the number of parameters** used in the neural network for two reasons:\n",
    "\n",
    "- First, it prevents overfitting\n",
    "- Second, it trains (and therefore identifies anomalies) faster\n",
    "\n",
    "Taking a look at our last (very simple) network, we observe that we have a total of 238,249 to train:"
   ]
  },
  {
   "cell_type": "code",
   "execution_count": 38,
   "metadata": {
    "collapsed": false
   },
   "outputs": [
    {
     "name": "stdout",
     "output_type": "stream",
     "text": [
      "____________________________________________________________________________________________________\n",
      "Layer (type)                     Output Shape          Param #     Connected to                     \n",
      "====================================================================================================\n",
      "input_18 (InputLayer)            (None, 166)           0                                            \n",
      "____________________________________________________________________________________________________\n",
      "dense_74 (Dense)                 (None, 512)           85504       input_18[0][0]                   \n",
      "____________________________________________________________________________________________________\n",
      "dense_75 (Dense)                 (None, 64)            32768       dense_74[0][0]                   \n",
      "____________________________________________________________________________________________________\n",
      "dense_76 (Dense)                 (None, 512)           33280       dense_75[0][0]                   \n",
      "____________________________________________________________________________________________________\n",
      "dense_77 (Dense)                 (None, 166)           85158       dense_76[0][0]                   \n",
      "____________________________________________________________________________________________________\n",
      "dense_78 (Dense)                 (None, 3)             1539        dense_76[0][0]                   \n",
      "====================================================================================================\n",
      "Total params: 238,249\n",
      "Trainable params: 238,249\n",
      "Non-trainable params: 0\n",
      "____________________________________________________________________________________________________\n"
     ]
    }
   ],
   "source": [
    "mlt.summary()"
   ]
  },
  {
   "cell_type": "markdown",
   "metadata": {},
   "source": [
    "Trying out **convolutional networks**, which take advantage of the sequantiality of time series, we can come up with a more complex network with **much less trainable parameters** (64,842), and yet an almost similar classification performance (0.87)"
   ]
  },
  {
   "cell_type": "code",
   "execution_count": 56,
   "metadata": {
    "collapsed": false
   },
   "outputs": [
    {
     "name": "stdout",
     "output_type": "stream",
     "text": [
      "____________________________________________________________________________________________________\n",
      "Layer (type)                     Output Shape          Param #     Connected to                     \n",
      "====================================================================================================\n",
      "input_26 (InputLayer)            (None, 166, 1)        0                                            \n",
      "____________________________________________________________________________________________________\n",
      "conv1d_11 (Conv1D)               (None, 42, 32)        160         input_26[0][0]                   \n",
      "____________________________________________________________________________________________________\n",
      "batch_normalization_10 (BatchNor (None, 42, 32)        128         conv1d_11[0][0]                  \n",
      "____________________________________________________________________________________________________\n",
      "activation_9 (Activation)        (None, 42, 32)        0           batch_normalization_10[0][0]     \n",
      "____________________________________________________________________________________________________\n",
      "conv1d_12 (Conv1D)               (None, 11, 64)        16448       activation_9[0][0]               \n",
      "____________________________________________________________________________________________________\n",
      "batch_normalization_11 (BatchNor (None, 11, 64)        256         conv1d_12[0][0]                  \n",
      "____________________________________________________________________________________________________\n",
      "activation_10 (Activation)       (None, 11, 64)        0           batch_normalization_11[0][0]     \n",
      "____________________________________________________________________________________________________\n",
      "flatten_15 (Flatten)             (None, 704)           0           activation_10[0][0]              \n",
      "____________________________________________________________________________________________________\n",
      "reshape_8 (Reshape)              (None, 11, 1, 64)     0           flatten_15[0][0]                 \n",
      "____________________________________________________________________________________________________\n",
      "conv2d_transpose_7 (Conv2DTransp (None, 44, 1, 32)     16416       reshape_8[0][0]                  \n",
      "____________________________________________________________________________________________________\n",
      "conv2d_transpose_8 (Conv2DTransp (None, 176, 1, 1)     129         conv2d_transpose_7[0][0]         \n",
      "____________________________________________________________________________________________________\n",
      "flatten_16 (Flatten)             (None, 176)           0           conv2d_transpose_8[0][0]         \n",
      "____________________________________________________________________________________________________\n",
      "dense_82 (Dense)                 (None, 166)           29382       flatten_16[0][0]                 \n",
      "____________________________________________________________________________________________________\n",
      "dropout_2 (Dropout)              (None, 704)           0           flatten_15[0][0]                 \n",
      "____________________________________________________________________________________________________\n",
      "reshape_9 (Reshape)              (None, 166, 1)        0           dense_82[0][0]                   \n",
      "____________________________________________________________________________________________________\n",
      "dense_83 (Dense)                 (None, 3)             2115        dropout_2[0][0]                  \n",
      "====================================================================================================\n",
      "Total params: 65,034\n",
      "Trainable params: 64,842\n",
      "Non-trainable params: 192\n",
      "____________________________________________________________________________________________________\n"
     ]
    }
   ],
   "source": [
    "from keras.layers import Conv1D, Conv2DTranspose, Flatten, Reshape, BatchNormalization, Activation,Dropout\n",
    "\n",
    "def convolutional_network():\n",
    "    x = Input(shape=x_train.shape[1:])\n",
    "    depth = 32\n",
    "    kernel_size = 4\n",
    "    squeeze=2\n",
    "\n",
    "    h = Conv1D(depth, kernel_size, strides=4, padding='same')(x)\n",
    "    h = BatchNormalization()(h)\n",
    "    h = Activation('relu')(h)\n",
    "    h = Conv1D(depth*2, kernel_size*2, strides=4, padding='same')(h)\n",
    "    h = BatchNormalization()(h)\n",
    "    h = Activation('relu')(h)\n",
    "\n",
    "    hidden = Flatten()(h)\n",
    "\n",
    "    x_recons = Reshape((-1,1,depth * squeeze))(hidden)\n",
    "    x_recons = Conv2DTranspose(filters=depth, kernel_size=(kernel_size*2, 1),\n",
    "                               strides=(4, 1), padding='same', activation='relu')(x_recons)\n",
    "    x_recons = Conv2DTranspose(filters=1, kernel_size=(kernel_size, 1),\n",
    "                               strides=(4, 1), padding='same', activation='relu')(x_recons)\n",
    "    x_recons = Flatten()(x_recons)\n",
    "    x_recons = Dense(x_train.shape[1])(x_recons)\n",
    "    x_recons = Reshape(x_train.shape[1:])(x_recons)\n",
    "\n",
    "    y = Dropout(0.2)(hidden)\n",
    "    y = Dense(Y_train.shape[1], activation='softmax')(y)\n",
    "\n",
    "    mlt = Model(x, [x_recons, y])\n",
    "    mlt.compile('adadelta', ['mse', 'categorical_crossentropy'], metrics=['acc'])\n",
    "    return mlt\n",
    "\n",
    "convolutional_network().summary()"
   ]
  },
  {
   "cell_type": "markdown",
   "metadata": {},
   "source": [
    "# Cross validation\n",
    "\n",
    "The best way to deal with hyperparameters (number of layers, type of layers, number of neurons, activation type, loss to optimize, ...) is to use cross validation.\n",
    "\n",
    "Hyperopt offers a very convenient way to search through a **space of possibilities**, with what's called the Tree-structured Parzen Estimator (TPE) algorithm.\n",
    "\n",
    "Our **space of possibilities** looks like this:"
   ]
  },
  {
   "cell_type": "code",
   "execution_count": 58,
   "metadata": {
    "collapsed": false
   },
   "outputs": [],
   "source": [
    "from hyperopt import hp\n",
    "\n",
    "space = {\n",
    "    'n_layers': hp.choice('n_layers',\n",
    "                          [{'n':1},\n",
    "                           {'n':2,'squeeze':hp.choice('squeeze',[1,2])}]),\n",
    "    'after_conv': hp.choice('after_conv',\n",
    "                            [{'type':'max_pooling',\n",
    "                              'activation':hp.choice('activation',['relu','elu',None]),\n",
    "                              'pooling_size':hp.choice('pooling_size',[2,4])},\n",
    "                             {'type':'batch_norm',\n",
    "                              'activation': 'relu',\n",
    "                              'pooling_size':None}]),\n",
    "    'middle_layer': hp.choice('middle_layer',\n",
    "                              [{'type':'gaussian',\n",
    "                               'epsilon':hp.choice('epsilon',[0.1,0.5,1]),\n",
    "                               'correct_factor': hp.choice('correct_factor',[True, False]),\n",
    "                               'gaussian_regul':hp.choice('gaussian_regul',[0.1,0.5,5,10])},\n",
    "                               {'type':'regular',\n",
    "                                'epsilon':None,\n",
    "                                'correct_factor':None,\n",
    "                                'gaussian_regul':None}\n",
    "                              ]),\n",
    "    'depth': hp.choice('depth',[16,32,64]),\n",
    "    'kernel_size': hp.choice('kernel_size',[2,4,8,16]),\n",
    "    'intermediate_dim': hp.choice('intermediate_dim',[16,32,64]),\n",
    "    'dropout': hp.uniform('dropout',.0,.5),\n",
    "    'recons_regul': hp.uniform('recons_regul',1.,10.),\n",
    "    'optimizer': hp.choice('optimizer',['adadelta','adam','rmsprop']),\n",
    "}"
   ]
  },
  {
   "cell_type": "markdown",
   "metadata": {},
   "source": [
    "## Interpretation of the results\n",
    "\n",
    "The results can be exported to a json format, and the best autoencoder can thereafter be chosen."
   ]
  },
  {
   "cell_type": "code",
   "execution_count": 61,
   "metadata": {
    "collapsed": false,
    "scrolled": true
   },
   "outputs": [
    {
     "name": "stdout",
     "output_type": "stream",
     "text": [
      "{'after_conv': {'activation': 'elu', 'pooling_size': 4, 'type': 'max_pooling'}, 'depth': 32, 'dropout': 0.2, 'intermediate_dim': 32, 'kernel_size': 8, 'middle_layer': {'correct_factor': None, 'epsilon': None, 'gaussian_regul': None, 'type': 'regular'}, 'n_layers': {'n': 2, 'squeeze': 1}, 'optimizer': 'adam', 'recons_regul': 7.179121423546559}\n",
      "-0.8591145833333333\n",
      "{'after_conv': {'activation': 'relu', 'pooling_size': None, 'type': 'batch_norm'}, 'depth': 16, 'dropout': 0.2, 'intermediate_dim': 32, 'kernel_size': 8, 'middle_layer': {'correct_factor': None, 'epsilon': None, 'gaussian_regul': None, 'type': 'regular'}, 'n_layers': {'n': 1}, 'optimizer': 'adadelta', 'recons_regul': 1.5845342151446347}\n",
      "-0.87578125\n",
      "{'after_conv': {'activation': 'relu', 'pooling_size': None, 'type': 'batch_norm'}, 'depth': 64, 'dropout': 0.2, 'intermediate_dim': 32, 'kernel_size': 8, 'middle_layer': {'correct_factor': None, 'epsilon': None, 'gaussian_regul': None, 'type': 'regular'}, 'n_layers': {'n': 1}, 'optimizer': 'adam', 'recons_regul': 9.576594367920535}\n",
      "-0.7083333333333334\n",
      "{'after_conv': {'activation': 'elu', 'pooling_size': 2, 'type': 'max_pooling'}, 'depth': 16, 'dropout': 0.2, 'intermediate_dim': 32, 'kernel_size': 8, 'middle_layer': {'correct_factor': None, 'epsilon': None, 'gaussian_regul': None, 'type': 'regular'}, 'n_layers': {'n': 2, 'squeeze': 1}, 'optimizer': 'rmsprop', 'recons_regul': 7.511571772127108}\n",
      "-0.8497395833333333\n",
      "{'after_conv': {'activation': 'relu', 'pooling_size': 4, 'type': 'max_pooling'}, 'depth': 16, 'dropout': 0.2, 'intermediate_dim': 32, 'kernel_size': 8, 'middle_layer': {'correct_factor': None, 'epsilon': None, 'gaussian_regul': None, 'type': 'regular'}, 'n_layers': {'n': 1}, 'optimizer': 'rmsprop', 'recons_regul': 1.0491343195982163}\n",
      "-0.8026041666666667\n",
      "{'after_conv': {'activation': 'elu', 'pooling_size': 2, 'type': 'max_pooling'}, 'depth': 16, 'dropout': 0.2, 'intermediate_dim': 32, 'kernel_size': 8, 'middle_layer': {'correct_factor': None, 'epsilon': None, 'gaussian_regul': None, 'type': 'regular'}, 'n_layers': {'n': 1}, 'optimizer': 'adam', 'recons_regul': 1.00778148560248}\n",
      "-0.8161458333333333\n",
      "{'after_conv': {'activation': 'relu', 'pooling_size': None, 'type': 'batch_norm'}, 'depth': 64, 'dropout': 0.2, 'intermediate_dim': 32, 'kernel_size': 8, 'middle_layer': {'correct_factor': None, 'epsilon': None, 'gaussian_regul': None, 'type': 'regular'}, 'n_layers': {'n': 1}, 'optimizer': 'adadelta', 'recons_regul': 7.019685854857696}\n",
      "-0.8203125\n",
      "{'after_conv': {'activation': 'relu', 'pooling_size': None, 'type': 'batch_norm'}, 'depth': 16, 'dropout': 0.2, 'intermediate_dim': 32, 'kernel_size': 8, 'middle_layer': {'correct_factor': None, 'epsilon': None, 'gaussian_regul': None, 'type': 'regular'}, 'n_layers': {'n': 1}, 'optimizer': 'rmsprop', 'recons_regul': 3.5377296342109386}\n",
      "-0.5434895833333333\n",
      "{'after_conv': {'activation': 'relu', 'pooling_size': 2, 'type': 'max_pooling'}, 'depth': 64, 'dropout': 0.2, 'intermediate_dim': 32, 'kernel_size': 8, 'middle_layer': {'correct_factor': None, 'epsilon': None, 'gaussian_regul': None, 'type': 'regular'}, 'n_layers': {'n': 1}, 'optimizer': 'rmsprop', 'recons_regul': 5.836335813356315}\n",
      "-0.8252604166666667\n",
      "{'after_conv': {'activation': 'relu', 'pooling_size': None, 'type': 'batch_norm'}, 'depth': 64, 'dropout': 0.2, 'intermediate_dim': 32, 'kernel_size': 8, 'middle_layer': {'correct_factor': None, 'epsilon': None, 'gaussian_regul': None, 'type': 'regular'}, 'n_layers': {'n': 1}, 'optimizer': 'adam', 'recons_regul': 3.8445314826615564}\n",
      "-0.5153645833333333\n",
      "{'after_conv': {'activation': 'relu', 'pooling_size': 4, 'type': 'max_pooling'}, 'depth': 16, 'dropout': 0.2, 'intermediate_dim': 32, 'kernel_size': 8, 'middle_layer': {'correct_factor': None, 'epsilon': None, 'gaussian_regul': None, 'type': 'regular'}, 'n_layers': {'n': 2, 'squeeze': 2}, 'optimizer': 'rmsprop', 'recons_regul': 7.837879202027258}\n",
      "-0.8161458333333333\n",
      "{'after_conv': {'activation': None, 'pooling_size': 2, 'type': 'max_pooling'}, 'depth': 32, 'dropout': 0.2, 'intermediate_dim': 32, 'kernel_size': 8, 'middle_layer': {'correct_factor': None, 'epsilon': None, 'gaussian_regul': None, 'type': 'regular'}, 'n_layers': {'n': 1}, 'optimizer': 'adadelta', 'recons_regul': 7.005929744715235}\n",
      "-0.76640625\n",
      "{'after_conv': {'activation': 'relu', 'pooling_size': None, 'type': 'batch_norm'}, 'depth': 16, 'dropout': 0.2, 'intermediate_dim': 32, 'kernel_size': 8, 'middle_layer': {'correct_factor': None, 'epsilon': None, 'gaussian_regul': None, 'type': 'regular'}, 'n_layers': {'n': 1}, 'optimizer': 'rmsprop', 'recons_regul': 8.57085649607259}\n",
      "-0.73125\n",
      "{'after_conv': {'activation': 'relu', 'pooling_size': None, 'type': 'batch_norm'}, 'depth': 64, 'dropout': 0.2, 'intermediate_dim': 32, 'kernel_size': 8, 'middle_layer': {'correct_factor': None, 'epsilon': None, 'gaussian_regul': None, 'type': 'regular'}, 'n_layers': {'n': 1}, 'optimizer': 'adam', 'recons_regul': 7.081536635520211}\n",
      "-0.34010416666666665\n",
      "{'after_conv': {'activation': 'relu', 'pooling_size': None, 'type': 'batch_norm'}, 'depth': 16, 'dropout': 0.2, 'intermediate_dim': 32, 'kernel_size': 8, 'middle_layer': {'correct_factor': None, 'epsilon': None, 'gaussian_regul': None, 'type': 'regular'}, 'n_layers': {'n': 2, 'squeeze': 2}, 'optimizer': 'adadelta', 'recons_regul': 3.959255730761019}\n",
      "-0.8606770833333334\n",
      "{'after_conv': {'activation': 'relu', 'pooling_size': None, 'type': 'batch_norm'}, 'depth': 16, 'dropout': 0.2, 'intermediate_dim': 32, 'kernel_size': 8, 'middle_layer': {'correct_factor': None, 'epsilon': None, 'gaussian_regul': None, 'type': 'regular'}, 'n_layers': {'n': 1}, 'optimizer': 'rmsprop', 'recons_regul': 6.04029028529921}\n",
      "-0.590625\n",
      "{'after_conv': {'activation': 'relu', 'pooling_size': None, 'type': 'batch_norm'}, 'depth': 16, 'dropout': 0.2, 'intermediate_dim': 32, 'kernel_size': 8, 'middle_layer': {'correct_factor': None, 'epsilon': None, 'gaussian_regul': None, 'type': 'regular'}, 'n_layers': {'n': 1}, 'optimizer': 'adadelta', 'recons_regul': 9.790763462962754}\n",
      "-0.85859375\n",
      "{'after_conv': {'activation': 'relu', 'pooling_size': None, 'type': 'batch_norm'}, 'depth': 64, 'dropout': 0.2, 'intermediate_dim': 32, 'kernel_size': 8, 'middle_layer': {'correct_factor': None, 'epsilon': None, 'gaussian_regul': None, 'type': 'regular'}, 'n_layers': {'n': 2, 'squeeze': 1}, 'optimizer': 'adadelta', 'recons_regul': 5.742938017410407}\n",
      "-0.8502604166666666\n",
      "{'after_conv': {'activation': 'relu', 'pooling_size': None, 'type': 'batch_norm'}, 'depth': 16, 'dropout': 0.2, 'intermediate_dim': 32, 'kernel_size': 8, 'middle_layer': {'correct_factor': None, 'epsilon': None, 'gaussian_regul': None, 'type': 'regular'}, 'n_layers': {'n': 1}, 'optimizer': 'rmsprop', 'recons_regul': 2.070188582598236}\n",
      "-0.5864583333333333\n",
      "{'after_conv': {'activation': None, 'pooling_size': 4, 'type': 'max_pooling'}, 'depth': 32, 'dropout': 0.2, 'intermediate_dim': 32, 'kernel_size': 8, 'middle_layer': {'correct_factor': None, 'epsilon': None, 'gaussian_regul': None, 'type': 'regular'}, 'n_layers': {'n': 2, 'squeeze': 1}, 'optimizer': 'adadelta', 'recons_regul': 5.295859655861481}\n",
      "-0.8239583333333333\n",
      "{'after_conv': {'activation': 'relu', 'pooling_size': None, 'type': 'batch_norm'}, 'depth': 16, 'dropout': 0.2, 'intermediate_dim': 32, 'kernel_size': 8, 'middle_layer': {'correct_factor': None, 'epsilon': None, 'gaussian_regul': None, 'type': 'regular'}, 'n_layers': {'n': 2, 'squeeze': 2}, 'optimizer': 'adadelta', 'recons_regul': 2.3887295733336122}\n",
      "-0.8466145833333333\n",
      "{'after_conv': {'activation': 'relu', 'pooling_size': None, 'type': 'batch_norm'}, 'depth': 16, 'dropout': 0.2, 'intermediate_dim': 32, 'kernel_size': 8, 'middle_layer': {'correct_factor': None, 'epsilon': None, 'gaussian_regul': None, 'type': 'regular'}, 'n_layers': {'n': 2, 'squeeze': 2}, 'optimizer': 'adadelta', 'recons_regul': 4.12715828829792}\n",
      "-0.8473958333333333\n",
      "{'after_conv': {'activation': 'relu', 'pooling_size': None, 'type': 'batch_norm'}, 'depth': 32, 'dropout': 0.2, 'intermediate_dim': 32, 'kernel_size': 8, 'middle_layer': {'correct_factor': None, 'epsilon': None, 'gaussian_regul': None, 'type': 'regular'}, 'n_layers': {'n': 2, 'squeeze': 2}, 'optimizer': 'adadelta', 'recons_regul': 2.5025469366894217}\n",
      "-0.8466145833333333\n",
      "{'after_conv': {'activation': 'relu', 'pooling_size': None, 'type': 'batch_norm'}, 'depth': 16, 'dropout': 0.2, 'intermediate_dim': 32, 'kernel_size': 8, 'middle_layer': {'correct_factor': None, 'epsilon': None, 'gaussian_regul': None, 'type': 'regular'}, 'n_layers': {'n': 2, 'squeeze': 2}, 'optimizer': 'adadelta', 'recons_regul': 4.897644194216699}\n",
      "-0.8419270833333333\n",
      "{'after_conv': {'activation': 'relu', 'pooling_size': None, 'type': 'batch_norm'}, 'depth': 16, 'dropout': 0.2, 'intermediate_dim': 32, 'kernel_size': 8, 'middle_layer': {'correct_factor': None, 'epsilon': None, 'gaussian_regul': None, 'type': 'regular'}, 'n_layers': {'n': 2, 'squeeze': 2}, 'optimizer': 'adadelta', 'recons_regul': 1.6779278788862904}\n",
      "-0.8434895833333333\n",
      "{'after_conv': {'activation': 'relu', 'pooling_size': None, 'type': 'batch_norm'}, 'depth': 16, 'dropout': 0.2, 'intermediate_dim': 32, 'kernel_size': 8, 'middle_layer': {'correct_factor': None, 'epsilon': None, 'gaussian_regul': None, 'type': 'regular'}, 'n_layers': {'n': 2, 'squeeze': 2}, 'optimizer': 'adadelta', 'recons_regul': 3.1113781112530035}\n",
      "-0.83671875\n",
      "{'after_conv': {'activation': 'relu', 'pooling_size': None, 'type': 'batch_norm'}, 'depth': 32, 'dropout': 0.2, 'intermediate_dim': 32, 'kernel_size': 8, 'middle_layer': {'correct_factor': None, 'epsilon': None, 'gaussian_regul': None, 'type': 'regular'}, 'n_layers': {'n': 2, 'squeeze': 2}, 'optimizer': 'adadelta', 'recons_regul': 4.56405905321795}\n",
      "-0.8661458333333333\n",
      "{'after_conv': {'activation': 'relu', 'pooling_size': None, 'type': 'batch_norm'}, 'depth': 32, 'dropout': 0.2, 'intermediate_dim': 32, 'kernel_size': 8, 'middle_layer': {'correct_factor': None, 'epsilon': None, 'gaussian_regul': None, 'type': 'regular'}, 'n_layers': {'n': 2, 'squeeze': 2}, 'optimizer': 'adadelta', 'recons_regul': 4.670640075942679}\n",
      "-0.84765625\n",
      "{'after_conv': {'activation': 'relu', 'pooling_size': None, 'type': 'batch_norm'}, 'depth': 32, 'dropout': 0.2, 'intermediate_dim': 32, 'kernel_size': 8, 'middle_layer': {'correct_factor': None, 'epsilon': None, 'gaussian_regul': None, 'type': 'regular'}, 'n_layers': {'n': 2, 'squeeze': 2}, 'optimizer': 'adadelta', 'recons_regul': 2.9326764721636183}\n",
      "-0.8502604166666666\n",
      "{'after_conv': {'activation': 'relu', 'pooling_size': None, 'type': 'batch_norm'}, 'depth': 32, 'dropout': 0.2, 'intermediate_dim': 32, 'kernel_size': 8, 'middle_layer': {'correct_factor': None, 'epsilon': None, 'gaussian_regul': None, 'type': 'regular'}, 'n_layers': {'n': 1}, 'optimizer': 'adadelta', 'recons_regul': 1.4628583150667587}\n",
      "-0.8533854166666667\n",
      "{'after_conv': {'activation': 'relu', 'pooling_size': None, 'type': 'batch_norm'}, 'depth': 32, 'dropout': 0.2, 'intermediate_dim': 32, 'kernel_size': 8, 'middle_layer': {'correct_factor': None, 'epsilon': None, 'gaussian_regul': None, 'type': 'regular'}, 'n_layers': {'n': 2, 'squeeze': 1}, 'optimizer': 'adam', 'recons_regul': 6.247477386529488}\n",
      "-0.7973958333333333\n",
      "{'after_conv': {'activation': 'relu', 'pooling_size': None, 'type': 'batch_norm'}, 'depth': 32, 'dropout': 0.2, 'intermediate_dim': 32, 'kernel_size': 8, 'middle_layer': {'correct_factor': None, 'epsilon': None, 'gaussian_regul': None, 'type': 'regular'}, 'n_layers': {'n': 1}, 'optimizer': 'adadelta', 'recons_regul': 4.52727147293743}\n",
      "-0.8463541666666666\n",
      "{'after_conv': {'activation': None, 'pooling_size': 2, 'type': 'max_pooling'}, 'depth': 32, 'dropout': 0.2, 'intermediate_dim': 32, 'kernel_size': 8, 'middle_layer': {'correct_factor': None, 'epsilon': None, 'gaussian_regul': None, 'type': 'regular'}, 'n_layers': {'n': 2, 'squeeze': 2}, 'optimizer': 'adam', 'recons_regul': 9.185285516417874}\n",
      "-0.8604166666666667\n",
      "{'after_conv': {'activation': 'relu', 'pooling_size': None, 'type': 'batch_norm'}, 'depth': 32, 'dropout': 0.2, 'intermediate_dim': 32, 'kernel_size': 8, 'middle_layer': {'correct_factor': None, 'epsilon': None, 'gaussian_regul': None, 'type': 'regular'}, 'n_layers': {'n': 1}, 'optimizer': 'adadelta', 'recons_regul': 3.099852194775142}\n",
      "-0.8489583333333334\n",
      "{'after_conv': {'activation': 'elu', 'pooling_size': 4, 'type': 'max_pooling'}, 'depth': 32, 'dropout': 0.2, 'intermediate_dim': 32, 'kernel_size': 8, 'middle_layer': {'correct_factor': None, 'epsilon': None, 'gaussian_regul': None, 'type': 'regular'}, 'n_layers': {'n': 1}, 'optimizer': 'adam', 'recons_regul': 6.509355299852826}\n",
      "-0.8484375\n",
      "{'after_conv': {'activation': 'relu', 'pooling_size': None, 'type': 'batch_norm'}, 'depth': 64, 'dropout': 0.2, 'intermediate_dim': 16, 'kernel_size': 16, 'middle_layer': {'correct_factor': None, 'epsilon': None, 'gaussian_regul': None, 'type': 'regular'}, 'n_layers': {'n': 2, 'squeeze': 2}, 'optimizer': 'adadelta', 'recons_regul': 5.23731213737551}\n",
      "-0.8822916666666667\n",
      "{'after_conv': {'activation': 'relu', 'pooling_size': None, 'type': 'batch_norm'}, 'depth': 64, 'dropout': 0.2, 'intermediate_dim': 16, 'kernel_size': 16, 'middle_layer': {'correct_factor': None, 'epsilon': None, 'gaussian_regul': None, 'type': 'regular'}, 'n_layers': {'n': 1}, 'optimizer': 'adadelta', 'recons_regul': 7.8579740745899604}\n",
      "-0.8643229166666667\n",
      "{'after_conv': {'activation': None, 'pooling_size': 2, 'type': 'max_pooling'}, 'depth': 64, 'dropout': 0.2, 'intermediate_dim': 64, 'kernel_size': 4, 'middle_layer': {'correct_factor': None, 'epsilon': None, 'gaussian_regul': None, 'type': 'regular'}, 'n_layers': {'n': 1}, 'optimizer': 'adam', 'recons_regul': 1.0481830022211036}\n",
      "-0.8221354166666667\n",
      "{'after_conv': {'activation': 'relu', 'pooling_size': None, 'type': 'batch_norm'}, 'depth': 64, 'dropout': 0.2, 'intermediate_dim': 16, 'kernel_size': 16, 'middle_layer': {'correct_factor': None, 'epsilon': None, 'gaussian_regul': None, 'type': 'regular'}, 'n_layers': {'n': 2, 'squeeze': 1}, 'optimizer': 'adadelta', 'recons_regul': 5.239622392692443}\n",
      "-0.8861979166666667\n",
      "{'after_conv': {'activation': 'relu', 'pooling_size': None, 'type': 'batch_norm'}, 'depth': 64, 'dropout': 0.062081027069955386, 'intermediate_dim': 32, 'kernel_size': 16, 'middle_layer': {'correct_factor': False, 'epsilon': 0.1, 'gaussian_regul': 0.5, 'type': 'gaussian'}, 'n_layers': {'n': 2, 'squeeze': 1}, 'optimizer': 'adadelta', 'recons_regul': 5.27532772692317}\n",
      "-0.5325520833333334\n",
      "{'after_conv': {'activation': 'relu', 'pooling_size': None, 'type': 'batch_norm'}, 'depth': 64, 'dropout': 0.3543593516529802, 'intermediate_dim': 32, 'kernel_size': 2, 'middle_layer': {'correct_factor': False, 'epsilon': 0.1, 'gaussian_regul': 5, 'type': 'gaussian'}, 'n_layers': {'n': 2, 'squeeze': 1}, 'optimizer': 'rmsprop', 'recons_regul': 6.606870552223835}\n",
      "-0.5325520833333334\n",
      "{'after_conv': {'activation': 'relu', 'pooling_size': 4, 'type': 'max_pooling'}, 'depth': 64, 'dropout': 0.10500898454617413, 'intermediate_dim': 32, 'kernel_size': 16, 'middle_layer': {'correct_factor': False, 'epsilon': 0.1, 'gaussian_regul': 0.1, 'type': 'gaussian'}, 'n_layers': {'n': 2, 'squeeze': 1}, 'optimizer': 'adadelta', 'recons_regul': 8.326629398631772}\n",
      "-0.84921875\n",
      "{'after_conv': {'activation': 'relu', 'pooling_size': None, 'type': 'batch_norm'}, 'depth': 64, 'dropout': 0.3030081806115237, 'intermediate_dim': 32, 'kernel_size': 16, 'middle_layer': {'correct_factor': False, 'epsilon': 0.1, 'gaussian_regul': 10, 'type': 'gaussian'}, 'n_layers': {'n': 2, 'squeeze': 1}, 'optimizer': 'adadelta', 'recons_regul': 3.494705038275023}\n",
      "-0.5325520833333334\n",
      "{'after_conv': {'activation': 'relu', 'pooling_size': None, 'type': 'batch_norm'}, 'depth': 64, 'dropout': 0.48360901946057944, 'intermediate_dim': 32, 'kernel_size': 16, 'middle_layer': {'correct_factor': False, 'epsilon': 0.1, 'gaussian_regul': 0.5, 'type': 'gaussian'}, 'n_layers': {'n': 2, 'squeeze': 1}, 'optimizer': 'rmsprop', 'recons_regul': 5.454041073083381}\n",
      "-0.5325520833333334\n",
      "{'after_conv': {'activation': 'relu', 'pooling_size': 4, 'type': 'max_pooling'}, 'depth': 64, 'dropout': 0.1520410080751137, 'intermediate_dim': 32, 'kernel_size': 16, 'middle_layer': {'correct_factor': False, 'epsilon': 0.1, 'gaussian_regul': 10, 'type': 'gaussian'}, 'n_layers': {'n': 2, 'squeeze': 1}, 'optimizer': 'adam', 'recons_regul': 7.3929912956299395}\n",
      "-0.5325520833333334\n",
      "{'after_conv': {'activation': 'relu', 'pooling_size': None, 'type': 'batch_norm'}, 'depth': 64, 'dropout': 0.271511980720615, 'intermediate_dim': 32, 'kernel_size': 2, 'middle_layer': {'correct_factor': False, 'epsilon': 0.1, 'gaussian_regul': 5, 'type': 'gaussian'}, 'n_layers': {'n': 2, 'squeeze': 1}, 'optimizer': 'adadelta', 'recons_regul': 5.032460747729986}\n",
      "-0.5325520833333334\n",
      "{'after_conv': {'activation': 'relu', 'pooling_size': None, 'type': 'batch_norm'}, 'depth': 64, 'dropout': 0.005253645202659807, 'intermediate_dim': 32, 'kernel_size': 4, 'middle_layer': {'correct_factor': False, 'epsilon': 0.1, 'gaussian_regul': 0.1, 'type': 'gaussian'}, 'n_layers': {'n': 2, 'squeeze': 2}, 'optimizer': 'rmsprop', 'recons_regul': 9.007675815091432}\n",
      "-0.5325520833333334\n",
      "{'after_conv': {'activation': None, 'pooling_size': 2, 'type': 'max_pooling'}, 'depth': 64, 'dropout': 0.36188707930548314, 'intermediate_dim': 32, 'kernel_size': 16, 'middle_layer': {'correct_factor': False, 'epsilon': 0.1, 'gaussian_regul': 10, 'type': 'gaussian'}, 'n_layers': {'n': 2, 'squeeze': 1}, 'optimizer': 'adadelta', 'recons_regul': 6.498210817530749}\n",
      "-0.68046875\n",
      "{'after_conv': {'activation': 'relu', 'pooling_size': None, 'type': 'batch_norm'}, 'depth': 64, 'dropout': 0.15975333056325905, 'intermediate_dim': 32, 'kernel_size': 16, 'middle_layer': {'correct_factor': None, 'epsilon': None, 'gaussian_regul': None, 'type': 'regular'}, 'n_layers': {'n': 2, 'squeeze': 1}, 'optimizer': 'adam', 'recons_regul': 5.687577326589431}\n",
      "-0.575\n",
      "{'after_conv': {'activation': 'relu', 'pooling_size': None, 'type': 'batch_norm'}, 'depth': 64, 'dropout': 0.06654991075801858, 'intermediate_dim': 32, 'kernel_size': 4, 'middle_layer': {'correct_factor': None, 'epsilon': None, 'gaussian_regul': None, 'type': 'regular'}, 'n_layers': {'n': 2, 'squeeze': 2}, 'optimizer': 'adadelta', 'recons_regul': 4.168361117953834}\n",
      "-0.85625\n",
      "{'after_conv': {'activation': 'relu', 'pooling_size': None, 'type': 'batch_norm'}, 'depth': 64, 'dropout': 0.2403598432582564, 'intermediate_dim': 32, 'kernel_size': 2, 'middle_layer': {'correct_factor': None, 'epsilon': None, 'gaussian_regul': None, 'type': 'regular'}, 'n_layers': {'n': 2, 'squeeze': 1}, 'optimizer': 'rmsprop', 'recons_regul': 3.693216333743173}\n",
      "-0.4984375\n",
      "{'after_conv': {'activation': 'elu', 'pooling_size': 2, 'type': 'max_pooling'}, 'depth': 64, 'dropout': 0.23961818612364605, 'intermediate_dim': 16, 'kernel_size': 16, 'middle_layer': {'correct_factor': None, 'epsilon': None, 'gaussian_regul': None, 'type': 'regular'}, 'n_layers': {'n': 2, 'squeeze': 1}, 'optimizer': 'adadelta', 'recons_regul': 6.895668935963959}\n",
      "-0.86953125\n",
      "{'after_conv': {'activation': 'relu', 'pooling_size': None, 'type': 'batch_norm'}, 'depth': 64, 'dropout': 0.16013741637894183, 'intermediate_dim': 16, 'kernel_size': 16, 'middle_layer': {'correct_factor': None, 'epsilon': None, 'gaussian_regul': None, 'type': 'regular'}, 'n_layers': {'n': 2, 'squeeze': 2}, 'optimizer': 'adadelta', 'recons_regul': 6.0410101923607264}\n",
      "-0.8515625\n",
      "{'after_conv': {'activation': 'relu', 'pooling_size': None, 'type': 'batch_norm'}, 'depth': 64, 'dropout': 0.3425436861612713, 'intermediate_dim': 16, 'kernel_size': 16, 'middle_layer': {'correct_factor': True, 'epsilon': 0.5, 'gaussian_regul': 0.1, 'type': 'gaussian'}, 'n_layers': {'n': 2, 'squeeze': 2}, 'optimizer': 'rmsprop', 'recons_regul': 8.471426250539029}\n",
      "-0.5325520833333334\n",
      "{'after_conv': {'activation': 'relu', 'pooling_size': None, 'type': 'batch_norm'}, 'depth': 64, 'dropout': 0.4225054298095805, 'intermediate_dim': 16, 'kernel_size': 16, 'middle_layer': {'correct_factor': None, 'epsilon': None, 'gaussian_regul': None, 'type': 'regular'}, 'n_layers': {'n': 2, 'squeeze': 1}, 'optimizer': 'adadelta', 'recons_regul': 5.000821296784461}\n",
      "-0.8565104166666667\n",
      "{'after_conv': {'activation': 'relu', 'pooling_size': None, 'type': 'batch_norm'}, 'depth': 64, 'dropout': 0.12754333061568712, 'intermediate_dim': 64, 'kernel_size': 2, 'middle_layer': {'correct_factor': None, 'epsilon': None, 'gaussian_regul': None, 'type': 'regular'}, 'n_layers': {'n': 2, 'squeeze': 1}, 'optimizer': 'adam', 'recons_regul': 7.918990993431106}\n",
      "-0.6997395833333333\n",
      "{'after_conv': {'activation': None, 'pooling_size': 4, 'type': 'max_pooling'}, 'depth': 64, 'dropout': 0.2709589310186064, 'intermediate_dim': 16, 'kernel_size': 4, 'middle_layer': {'correct_factor': None, 'epsilon': None, 'gaussian_regul': None, 'type': 'regular'}, 'n_layers': {'n': 2, 'squeeze': 2}, 'optimizer': 'adadelta', 'recons_regul': 6.066095457591284}\n",
      "-0.7911458333333333\n",
      "{'after_conv': {'activation': 'relu', 'pooling_size': None, 'type': 'batch_norm'}, 'depth': 64, 'dropout': 0.01028997642162302, 'intermediate_dim': 16, 'kernel_size': 16, 'middle_layer': {'correct_factor': None, 'epsilon': None, 'gaussian_regul': None, 'type': 'regular'}, 'n_layers': {'n': 2, 'squeeze': 2}, 'optimizer': 'adadelta', 'recons_regul': 3.4782101144117394}\n",
      "-0.8578125\n",
      "{'after_conv': {'activation': 'relu', 'pooling_size': None, 'type': 'batch_norm'}, 'depth': 64, 'dropout': 0.05855938709054981, 'intermediate_dim': 16, 'kernel_size': 16, 'middle_layer': {'correct_factor': None, 'epsilon': None, 'gaussian_regul': None, 'type': 'regular'}, 'n_layers': {'n': 2, 'squeeze': 1}, 'optimizer': 'rmsprop', 'recons_regul': 7.487797991989825}\n",
      "-0.5325520833333334\n",
      "{'after_conv': {'activation': 'relu', 'pooling_size': None, 'type': 'batch_norm'}, 'depth': 16, 'dropout': 0.31865417070521435, 'intermediate_dim': 16, 'kernel_size': 4, 'middle_layer': {'correct_factor': None, 'epsilon': None, 'gaussian_regul': None, 'type': 'regular'}, 'n_layers': {'n': 2, 'squeeze': 2}, 'optimizer': 'adadelta', 'recons_regul': 4.353831975269171}\n",
      "-0.8200520833333333\n",
      "{'after_conv': {'activation': 'relu', 'pooling_size': None, 'type': 'batch_norm'}, 'depth': 64, 'dropout': 0.08585315537809049, 'intermediate_dim': 64, 'kernel_size': 2, 'middle_layer': {'correct_factor': None, 'epsilon': None, 'gaussian_regul': None, 'type': 'regular'}, 'n_layers': {'n': 2, 'squeeze': 2}, 'optimizer': 'adadelta', 'recons_regul': 2.863166683845745}\n",
      "-0.8244791666666667\n",
      "{'after_conv': {'activation': 'relu', 'pooling_size': 4, 'type': 'max_pooling'}, 'depth': 64, 'dropout': 0.028870546373080203, 'intermediate_dim': 16, 'kernel_size': 16, 'middle_layer': {'correct_factor': True, 'epsilon': 1, 'gaussian_regul': 5, 'type': 'gaussian'}, 'n_layers': {'n': 1}, 'optimizer': 'adam', 'recons_regul': 2.1287085557037164}\n",
      "-0.5325520833333334\n",
      "{'after_conv': {'activation': 'relu', 'pooling_size': None, 'type': 'batch_norm'}, 'depth': 16, 'dropout': 0.40806650970228275, 'intermediate_dim': 16, 'kernel_size': 16, 'middle_layer': {'correct_factor': None, 'epsilon': None, 'gaussian_regul': None, 'type': 'regular'}, 'n_layers': {'n': 2, 'squeeze': 1}, 'optimizer': 'adadelta', 'recons_regul': 6.880957005493112}\n",
      "-0.8447916666666667\n",
      "{'after_conv': {'activation': 'relu', 'pooling_size': None, 'type': 'batch_norm'}, 'depth': 64, 'dropout': 0.17597476522321576, 'intermediate_dim': 64, 'kernel_size': 16, 'middle_layer': {'correct_factor': None, 'epsilon': None, 'gaussian_regul': None, 'type': 'regular'}, 'n_layers': {'n': 2, 'squeeze': 2}, 'optimizer': 'adadelta', 'recons_regul': 4.013168038024391}\n",
      "-0.8763020833333334\n",
      "{'after_conv': {'activation': 'relu', 'pooling_size': None, 'type': 'batch_norm'}, 'depth': 64, 'dropout': 0.12249145699151986, 'intermediate_dim': 16, 'kernel_size': 16, 'middle_layer': {'correct_factor': None, 'epsilon': None, 'gaussian_regul': None, 'type': 'regular'}, 'n_layers': {'n': 1}, 'optimizer': 'rmsprop', 'recons_regul': 5.549024985335018}\n",
      "-0.534375\n",
      "{'after_conv': {'activation': 'relu', 'pooling_size': None, 'type': 'batch_norm'}, 'depth': 64, 'dropout': 0.22944820455424567, 'intermediate_dim': 64, 'kernel_size': 16, 'middle_layer': {'correct_factor': None, 'epsilon': None, 'gaussian_regul': None, 'type': 'regular'}, 'n_layers': {'n': 2, 'squeeze': 2}, 'optimizer': 'adadelta', 'recons_regul': 3.916285497879624}\n",
      "-0.8731770833333333\n",
      "{'after_conv': {'activation': 'relu', 'pooling_size': None, 'type': 'batch_norm'}, 'depth': 64, 'dropout': 0.17818619991051352, 'intermediate_dim': 64, 'kernel_size': 16, 'middle_layer': {'correct_factor': None, 'epsilon': None, 'gaussian_regul': None, 'type': 'regular'}, 'n_layers': {'n': 2, 'squeeze': 2}, 'optimizer': 'adadelta', 'recons_regul': 4.833492184884898}\n",
      "-0.85703125\n",
      "{'after_conv': {'activation': 'relu', 'pooling_size': None, 'type': 'batch_norm'}, 'depth': 64, 'dropout': 0.2643292533846912, 'intermediate_dim': 64, 'kernel_size': 16, 'middle_layer': {'correct_factor': None, 'epsilon': None, 'gaussian_regul': None, 'type': 'regular'}, 'n_layers': {'n': 2, 'squeeze': 2}, 'optimizer': 'adadelta', 'recons_regul': 5.187539788430174}\n",
      "-0.8729166666666667\n",
      "{'after_conv': {'activation': 'relu', 'pooling_size': None, 'type': 'batch_norm'}, 'depth': 64, 'dropout': 0.1761485160324908, 'intermediate_dim': 64, 'kernel_size': 16, 'middle_layer': {'correct_factor': None, 'epsilon': None, 'gaussian_regul': None, 'type': 'regular'}, 'n_layers': {'n': 2, 'squeeze': 2}, 'optimizer': 'adadelta', 'recons_regul': 3.254237244480186}\n",
      "-0.86015625\n",
      "{'after_conv': {'activation': 'relu', 'pooling_size': None, 'type': 'batch_norm'}, 'depth': 64, 'dropout': 0.2254093456270655, 'intermediate_dim': 64, 'kernel_size': 16, 'middle_layer': {'correct_factor': None, 'epsilon': None, 'gaussian_regul': None, 'type': 'regular'}, 'n_layers': {'n': 2, 'squeeze': 2}, 'optimizer': 'adadelta', 'recons_regul': 2.6513183219970173}\n",
      "-0.8705729166666667\n",
      "{'after_conv': {'activation': 'relu', 'pooling_size': None, 'type': 'batch_norm'}, 'depth': 64, 'dropout': 0.106578135802617, 'intermediate_dim': 16, 'kernel_size': 16, 'middle_layer': {'correct_factor': None, 'epsilon': None, 'gaussian_regul': None, 'type': 'regular'}, 'n_layers': {'n': 2, 'squeeze': 2}, 'optimizer': 'adadelta', 'recons_regul': 4.34707182396708}\n",
      "-0.8598958333333333\n",
      "{'after_conv': {'activation': 'relu', 'pooling_size': None, 'type': 'batch_norm'}, 'depth': 64, 'dropout': 0.29529688246178376, 'intermediate_dim': 64, 'kernel_size': 4, 'middle_layer': {'correct_factor': None, 'epsilon': None, 'gaussian_regul': None, 'type': 'regular'}, 'n_layers': {'n': 2, 'squeeze': 2}, 'optimizer': 'adadelta', 'recons_regul': 5.849467126625501}\n",
      "-0.8377604166666667\n",
      "{'after_conv': {'activation': 'relu', 'pooling_size': None, 'type': 'batch_norm'}, 'depth': 16, 'dropout': 0.14570161938353865, 'intermediate_dim': 16, 'kernel_size': 16, 'middle_layer': {'correct_factor': None, 'epsilon': None, 'gaussian_regul': None, 'type': 'regular'}, 'n_layers': {'n': 2, 'squeeze': 2}, 'optimizer': 'adadelta', 'recons_regul': 6.266305281759017}\n",
      "-0.8348958333333333\n",
      "{'after_conv': {'activation': 'relu', 'pooling_size': None, 'type': 'batch_norm'}, 'depth': 64, 'dropout': 0.22009123910938272, 'intermediate_dim': 64, 'kernel_size': 2, 'middle_layer': {'correct_factor': None, 'epsilon': None, 'gaussian_regul': None, 'type': 'regular'}, 'n_layers': {'n': 2, 'squeeze': 2}, 'optimizer': 'adadelta', 'recons_regul': 4.64699024988598}\n",
      "-0.8080729166666667\n",
      "{'after_conv': {'activation': 'relu', 'pooling_size': None, 'type': 'batch_norm'}, 'depth': 32, 'dropout': 0.17928853927983215, 'intermediate_dim': 16, 'kernel_size': 16, 'middle_layer': {'correct_factor': None, 'epsilon': None, 'gaussian_regul': None, 'type': 'regular'}, 'n_layers': {'n': 2, 'squeeze': 2}, 'optimizer': 'adadelta', 'recons_regul': 1.3261769101029177}\n",
      "-0.8559895833333333\n",
      "{'after_conv': {'activation': 'relu', 'pooling_size': None, 'type': 'batch_norm'}, 'depth': 64, 'dropout': 0.252676647327315, 'intermediate_dim': 16, 'kernel_size': 16, 'middle_layer': {'correct_factor': None, 'epsilon': None, 'gaussian_regul': None, 'type': 'regular'}, 'n_layers': {'n': 2, 'squeeze': 2}, 'optimizer': 'adadelta', 'recons_regul': 2.0895616585221086}\n",
      "-0.85390625\n",
      "{'after_conv': {'activation': 'elu', 'pooling_size': 2, 'type': 'max_pooling'}, 'depth': 64, 'dropout': 0.13683638366081718, 'intermediate_dim': 64, 'kernel_size': 16, 'middle_layer': {'correct_factor': None, 'epsilon': None, 'gaussian_regul': None, 'type': 'regular'}, 'n_layers': {'n': 1}, 'optimizer': 'adam', 'recons_regul': 4.024098943098877}\n",
      "-0.865625\n",
      "{'after_conv': {'activation': 'relu', 'pooling_size': None, 'type': 'batch_norm'}, 'depth': 16, 'dropout': 0.292319548133511, 'intermediate_dim': 16, 'kernel_size': 4, 'middle_layer': {'correct_factor': None, 'epsilon': None, 'gaussian_regul': None, 'type': 'regular'}, 'n_layers': {'n': 2, 'squeeze': 1}, 'optimizer': 'adadelta', 'recons_regul': 7.164290926984573}\n",
      "-0.81640625\n",
      "{'after_conv': {'activation': 'relu', 'pooling_size': None, 'type': 'batch_norm'}, 'depth': 32, 'dropout': 0.08861518453870354, 'intermediate_dim': 64, 'kernel_size': 2, 'middle_layer': {'correct_factor': None, 'epsilon': None, 'gaussian_regul': None, 'type': 'regular'}, 'n_layers': {'n': 2, 'squeeze': 2}, 'optimizer': 'adadelta', 'recons_regul': 1.8341940390814933}\n",
      "-0.8278645833333333\n",
      "{'after_conv': {'activation': 'relu', 'pooling_size': None, 'type': 'batch_norm'}, 'depth': 64, 'dropout': 0.1691093742617082, 'intermediate_dim': 16, 'kernel_size': 16, 'middle_layer': {'correct_factor': True, 'epsilon': 0.5, 'gaussian_regul': 0.5, 'type': 'gaussian'}, 'n_layers': {'n': 2, 'squeeze': 1}, 'optimizer': 'adadelta', 'recons_regul': 3.742227978195491}\n",
      "-0.5325520833333334\n",
      "{'after_conv': {'activation': 'relu', 'pooling_size': None, 'type': 'batch_norm'}, 'depth': 64, 'dropout': 0.3195902829131725, 'intermediate_dim': 16, 'kernel_size': 16, 'middle_layer': {'correct_factor': None, 'epsilon': None, 'gaussian_regul': None, 'type': 'regular'}, 'n_layers': {'n': 1}, 'optimizer': 'rmsprop', 'recons_regul': 4.3156447636700666}\n",
      "-0.6674479166666667\n",
      "{'after_conv': {'activation': None, 'pooling_size': 2, 'type': 'max_pooling'}, 'depth': 64, 'dropout': 0.21834627735724607, 'intermediate_dim': 64, 'kernel_size': 16, 'middle_layer': {'correct_factor': None, 'epsilon': None, 'gaussian_regul': None, 'type': 'regular'}, 'n_layers': {'n': 2, 'squeeze': 2}, 'optimizer': 'adam', 'recons_regul': 3.320701420518016}\n",
      "-0.8591145833333333\n",
      "{'after_conv': {'activation': 'relu', 'pooling_size': None, 'type': 'batch_norm'}, 'depth': 32, 'dropout': 0.38892057942717284, 'intermediate_dim': 16, 'kernel_size': 16, 'middle_layer': {'correct_factor': None, 'epsilon': None, 'gaussian_regul': None, 'type': 'regular'}, 'n_layers': {'n': 2, 'squeeze': 1}, 'optimizer': 'adadelta', 'recons_regul': 6.728882257940839}\n",
      "-0.8643229166666667\n",
      "{'after_conv': {'activation': 'relu', 'pooling_size': None, 'type': 'batch_norm'}, 'depth': 64, 'dropout': 0.04519288467721874, 'intermediate_dim': 16, 'kernel_size': 4, 'middle_layer': {'correct_factor': True, 'epsilon': 1, 'gaussian_regul': 0.5, 'type': 'gaussian'}, 'n_layers': {'n': 2, 'squeeze': 2}, 'optimizer': 'adadelta', 'recons_regul': 5.476586723335895}\n",
      "-0.5325520833333334\n",
      "{'after_conv': {'activation': 'relu', 'pooling_size': None, 'type': 'batch_norm'}, 'depth': 16, 'dropout': 0.10955345743398791, 'intermediate_dim': 64, 'kernel_size': 2, 'middle_layer': {'correct_factor': None, 'epsilon': None, 'gaussian_regul': None, 'type': 'regular'}, 'n_layers': {'n': 2, 'squeeze': 1}, 'optimizer': 'adadelta', 'recons_regul': 9.973824637287986}\n",
      "-0.821875\n",
      "{'after_conv': {'activation': 'elu', 'pooling_size': 4, 'type': 'max_pooling'}, 'depth': 64, 'dropout': 0.2833803248492584, 'intermediate_dim': 16, 'kernel_size': 16, 'middle_layer': {'correct_factor': None, 'epsilon': None, 'gaussian_regul': None, 'type': 'regular'}, 'n_layers': {'n': 1}, 'optimizer': 'rmsprop', 'recons_regul': 6.2497782303239156}\n",
      "-0.84453125\n",
      "{'after_conv': {'activation': 'relu', 'pooling_size': None, 'type': 'batch_norm'}, 'depth': 64, 'dropout': 0.0834433143446901, 'intermediate_dim': 64, 'kernel_size': 16, 'middle_layer': {'correct_factor': None, 'epsilon': None, 'gaussian_regul': None, 'type': 'regular'}, 'n_layers': {'n': 2, 'squeeze': 2}, 'optimizer': 'adam', 'recons_regul': 4.789250774227922}\n",
      "-0.5325520833333334\n"
     ]
    }
   ],
   "source": [
    "import pickle\n",
    "from hyperas.utils import eval_hyperopt_space\n",
    "from hyperopt import fmin, tpe, hp, STATUS_OK, Trials\n",
    "\n",
    "trials = pickle.load(open(\"../../../nn-tsc/logs/opt/trials.p\", \"rb\")) # Trials changed\n",
    "space = pickle.load(open(\"../../../nn-tsc/logs/opt/space.p\", \"rb\"))\n",
    "\n",
    "for trial in trials:\n",
    "    vals = trial.get('misc').get('vals')\n",
    "    print(eval_hyperopt_space(space,vals))\n",
    "    print(trial.get('result').get('loss'))"
   ]
  }
 ],
 "metadata": {
  "anaconda-cloud": {},
  "kernelspec": {
   "display_name": "Python [conda env:tsc]",
   "language": "python",
   "name": "conda-env-tsc-py"
  },
  "language_info": {
   "codemirror_mode": {
    "name": "ipython",
    "version": 3
   },
   "file_extension": ".py",
   "mimetype": "text/x-python",
   "name": "python",
   "nbconvert_exporter": "python",
   "pygments_lexer": "ipython3",
   "version": "3.6.1"
  }
 },
 "nbformat": 4,
 "nbformat_minor": 1
}
